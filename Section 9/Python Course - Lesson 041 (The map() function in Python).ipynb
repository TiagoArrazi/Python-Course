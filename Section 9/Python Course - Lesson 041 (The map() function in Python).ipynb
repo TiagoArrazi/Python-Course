{
 "cells": [
  {
   "cell_type": "code",
   "execution_count": null,
   "metadata": {},
   "outputs": [],
   "source": [
    "friends = ['Rolf', 'Jose', 'Randy', 'Anna', 'Mary']"
   ]
  },
  {
   "cell_type": "code",
   "execution_count": 6,
   "metadata": {},
   "outputs": [
    {
     "name": "stdout",
     "output_type": "stream",
     "text": [
      "rolf\n",
      "jose\n",
      "randy\n",
      "anna\n",
      "mary\n"
     ]
    }
   ],
   "source": [
    "friends_lower = map(lambda x: x.lower(), friends)\n",
    "\n",
    "print(next(friends_lower))\n",
    "print(next(friends_lower))\n",
    "print(next(friends_lower))\n",
    "print(next(friends_lower))\n",
    "print(next(friends_lower))"
   ]
  },
  {
   "cell_type": "code",
   "execution_count": 7,
   "metadata": {},
   "outputs": [
    {
     "name": "stdout",
     "output_type": "stream",
     "text": [
      "rolf\n",
      "jose\n",
      "randy\n",
      "anna\n",
      "mary\n"
     ]
    }
   ],
   "source": [
    "friends_lower = [friend.lower() for friend in friends]\n",
    "\n",
    "for friend in friends_lower:\n",
    "    print(friend)"
   ]
  },
  {
   "cell_type": "code",
   "execution_count": 8,
   "metadata": {},
   "outputs": [
    {
     "name": "stdout",
     "output_type": "stream",
     "text": [
      "rolf\n",
      "jose\n",
      "randy\n",
      "anna\n",
      "mary\n"
     ]
    }
   ],
   "source": [
    "friends_lower = (friend.lower() for friend in friends)\n",
    "\n",
    "print(next(friends_lower))\n",
    "print(next(friends_lower))\n",
    "print(next(friends_lower))\n",
    "print(next(friends_lower))\n",
    "print(next(friends_lower))"
   ]
  },
  {
   "cell_type": "code",
   "execution_count": 13,
   "metadata": {},
   "outputs": [],
   "source": [
    "class User:\n",
    "    def __init__(self, username, password):\n",
    "        self.username = username\n",
    "        self.password = password\n",
    "        \n",
    "    @classmethod\n",
    "    def from_dict(cls, data):\n",
    "        return cls(data['username'], data['password'])\n",
    "    \n",
    "users = [\n",
    "    {'username': 'rolf', 'password': '123'},\n",
    "    {'username': 'iamawesome', 'password': 'utoo'}\n",
    "]\n",
    "\n",
    "users = [User.from_dict(user) for user in users]\n",
    "users = map(User.from_dict, users)"
   ]
  }
 ],
 "metadata": {
  "kernelspec": {
   "display_name": "Python 3",
   "language": "python",
   "name": "python3"
  },
  "language_info": {
   "codemirror_mode": {
    "name": "ipython",
    "version": 3
   },
   "file_extension": ".py",
   "mimetype": "text/x-python",
   "name": "python",
   "nbconvert_exporter": "python",
   "pygments_lexer": "ipython3",
   "version": "3.6.7"
  }
 },
 "nbformat": 4,
 "nbformat_minor": 2
}
