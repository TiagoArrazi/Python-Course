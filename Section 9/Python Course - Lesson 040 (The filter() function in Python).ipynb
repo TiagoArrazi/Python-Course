{
 "cells": [
  {
   "cell_type": "code",
   "execution_count": 11,
   "metadata": {},
   "outputs": [
    {
     "name": "stdout",
     "output_type": "stream",
     "text": [
      "Rolf\n",
      "Randy\n"
     ]
    }
   ],
   "source": [
    "friends = ['Rolf', 'Jose', 'Randy', 'Anna', 'Mary']\n",
    "starts_with_r = filter(lambda friend: friend.startswith('R'), friends)\n",
    "\n",
    "print(next(starts_with_r))\n",
    "print(next(starts_with_r))"
   ]
  },
  {
   "cell_type": "code",
   "execution_count": 13,
   "metadata": {},
   "outputs": [
    {
     "name": "stdout",
     "output_type": "stream",
     "text": [
      "Rolf\n",
      "Randy\n"
     ]
    }
   ],
   "source": [
    "another_starts_with_r = (f for f in friends if f.startswith('R'))\n",
    "\n",
    "print(next(another_starts_with_r))\n",
    "print(next(another_starts_with_r))"
   ]
  },
  {
   "cell_type": "code",
   "execution_count": 14,
   "metadata": {},
   "outputs": [
    {
     "name": "stdout",
     "output_type": "stream",
     "text": [
      "Rolf\n",
      "Randy\n"
     ]
    }
   ],
   "source": [
    "def my_custom_filter(func, iterable):\n",
    "    for i in iterable:\n",
    "        if func(i):\n",
    "            yield i\n",
    "            \n",
    "custom_starts_with_r = my_custom_filter(lambda friend: friend.startswith('R'), friends)\n",
    "\n",
    "print(next(custom_starts_with_r))\n",
    "print(next(custom_starts_with_r))"
   ]
  }
 ],
 "metadata": {
  "kernelspec": {
   "display_name": "Python 3",
   "language": "python",
   "name": "python3"
  },
  "language_info": {
   "codemirror_mode": {
    "name": "ipython",
    "version": 3
   },
   "file_extension": ".py",
   "mimetype": "text/x-python",
   "name": "python",
   "nbconvert_exporter": "python",
   "pygments_lexer": "ipython3",
   "version": "3.6.7"
  }
 },
 "nbformat": 4,
 "nbformat_minor": 2
}
