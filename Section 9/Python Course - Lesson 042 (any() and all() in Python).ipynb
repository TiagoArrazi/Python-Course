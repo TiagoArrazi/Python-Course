{
 "cells": [
  {
   "cell_type": "code",
   "execution_count": 4,
   "metadata": {},
   "outputs": [
    {
     "name": "stdout",
     "output_type": "stream",
     "text": [
      "Where are you right now? San Francisco\n",
      "You are not alone\n"
     ]
    }
   ],
   "source": [
    "friends = [\n",
    "  {\n",
    "    'name': 'Rolf',\n",
    "    'location': 'Washington, D.C.'\n",
    "  },\n",
    "  {\n",
    "    'name': 'Anna',\n",
    "    'location': 'San Francisco'\n",
    "  },\n",
    "  {\n",
    "    'name': 'Charlie',\n",
    "    'location': 'San Francisco'\n",
    "  },\n",
    "  {\n",
    "    'name': 'Jose',\n",
    "    'location': 'San Francisco'\n",
    "  },\n",
    "]\n",
    "\n",
    "your_location = input('Where are you right now? ')\n",
    "friends_nearby = [friend for friend in friends if friend['location'] == your_location]\n",
    "\n",
    "if any(friends_nearby):\n",
    "    print('You are not alone')\n",
    "else:\n",
    "    print('Sorry, there is nobody nearby')"
   ]
  },
  {
   "cell_type": "code",
   "execution_count": 5,
   "metadata": {},
   "outputs": [
    {
     "name": "stdout",
     "output_type": "stream",
     "text": [
      "True\n",
      "False\n"
     ]
    }
   ],
   "source": [
    "print(all([1, 2, 3, 4, 5]))\n",
    "print(all([0, 1, 2, 3, 4, 5])) #because bool(0) = False"
   ]
  }
 ],
 "metadata": {
  "kernelspec": {
   "display_name": "Python 3",
   "language": "python",
   "name": "python3"
  },
  "language_info": {
   "codemirror_mode": {
    "name": "ipython",
    "version": 3
   },
   "file_extension": ".py",
   "mimetype": "text/x-python",
   "name": "python",
   "nbconvert_exporter": "python",
   "pygments_lexer": "ipython3",
   "version": "3.6.7"
  }
 },
 "nbformat": 4,
 "nbformat_minor": 2
}
