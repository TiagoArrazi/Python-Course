{
 "cells": [
  {
   "cell_type": "code",
   "execution_count": 7,
   "metadata": {},
   "outputs": [
    {
     "name": "stdout",
     "output_type": "stream",
     "text": [
      "Your car was not a car\n",
      "The garage now has 2 cars.\n"
     ]
    }
   ],
   "source": [
    "class Car:\n",
    "    \n",
    "    def __init__(self, make, model):\n",
    "        self.make = make\n",
    "        self.model = model\n",
    "        \n",
    "    def __repr__(self):\n",
    "        return f'<Car {self.make} {self.model}>'\n",
    "\n",
    "class Garage:\n",
    "    \n",
    "    def __init__(self):\n",
    "        self.cars = []\n",
    "        \n",
    "    def __len__(self):\n",
    "        return len(self.cars)\n",
    "    \n",
    "    def add_car(self, car):\n",
    "        if not isinstance(car, Car):\n",
    "            raise TypeError(f\"Tried to add a '{car.__class__.__name__}' to the garage, but you can only add 'Car' objects\")\n",
    "        self.cars.append(car)\n",
    "        \n",
    "ford = Garage()\n",
    "fiesta = Car('Ford', 'Fiesta')\n",
    "focus = Car('Ford', 'Focus')\n",
    "\n",
    "try:\n",
    "    ford.add_car(fiesta)\n",
    "    ford.add_car(focus)\n",
    "    ford.add_car('Fiesta')\n",
    "except TypeError:\n",
    "    print('Your car was not a car')\n",
    "finally:\n",
    "    print(f'The garage now has {len(ford)} cars.')"
   ]
  }
 ],
 "metadata": {
  "kernelspec": {
   "display_name": "Python 3",
   "language": "python",
   "name": "python3"
  },
  "language_info": {
   "codemirror_mode": {
    "name": "ipython",
    "version": 3
   },
   "file_extension": ".py",
   "mimetype": "text/x-python",
   "name": "python",
   "nbconvert_exporter": "python",
   "pygments_lexer": "ipython3",
   "version": "3.6.7"
  }
 },
 "nbformat": 4,
 "nbformat_minor": 2
}
