{
 "cells": [
  {
   "cell_type": "code",
   "execution_count": 16,
   "metadata": {},
   "outputs": [
    {
     "name": "stdout",
     "output_type": "stream",
     "text": [
      "This is a title\n",
      "Rolf\n",
      "Charlie\n",
      "Jen\n",
      "Jose\n",
      "Lorem ipsum dolor sit amet. Consectetur edipiscim elit.\n",
      "Here's another p without a class\n"
     ]
    }
   ],
   "source": [
    "from bs4 import BeautifulSoup\n",
    "\n",
    "SIMPLE_HTML = '''\n",
    "<html>\n",
    "    <head></head>\n",
    "    <body>\n",
    "        <h1>This is a title</h1>\n",
    "        <p class=\"subtitle\">Lorem ipsum dolor sit amet. Consectetur edipiscim elit.</p>\n",
    "        <p>Here's another p without a class</p>\n",
    "        <ul>\n",
    "            <li>Rolf</li>\n",
    "            <li>Charlie</li>\n",
    "            <li>Jen</li>\n",
    "            <li>Jose</li>\n",
    "        </ul>\n",
    "    </body>\n",
    "</html>\n",
    "'''\n",
    "\n",
    "simple_soup = BeautifulSoup(SIMPLE_HTML, 'html.parser')\n",
    "\n",
    "def find_title():\n",
    "    h1_tag = simple_soup.find('h1')\n",
    "    print(h1_tag.string)\n",
    "\n",
    "def find_list_items():\n",
    "    items_with_tags = simple_soup.findAll('li')\n",
    "    items = map(lambda item: item.string, items_with_tags)\n",
    "    for item in items:\n",
    "        print(item)\n",
    "        \n",
    "def find_paragraph(p_class: str = ''):\n",
    "    p_tag = simple_soup.find('p', {'class': p_class})\n",
    "    print(p_tag.string)\n",
    "\n",
    "find_title()\n",
    "find_list_items()\n",
    "find_paragraph('subtitle')\n",
    "find_paragraph()\n"
   ]
  }
 ],
 "metadata": {
  "kernelspec": {
   "display_name": "Python 3",
   "language": "python",
   "name": "python3"
  },
  "language_info": {
   "codemirror_mode": {
    "name": "ipython",
    "version": 3
   },
   "file_extension": ".py",
   "mimetype": "text/x-python",
   "name": "python",
   "nbconvert_exporter": "python",
   "pygments_lexer": "ipython3",
   "version": "3.6.7"
  }
 },
 "nbformat": 4,
 "nbformat_minor": 2
}
