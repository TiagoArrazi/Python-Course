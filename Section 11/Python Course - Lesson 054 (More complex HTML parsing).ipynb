{
 "cells": [
  {
   "cell_type": "code",
   "execution_count": 30,
   "metadata": {},
   "outputs": [
    {
     "name": "stdout",
     "output_type": "stream",
     "text": [
      "Item name: A Light in the Attic\n",
      "Item relative link: catalogue/a-light-in-the-attic_1000/index.html\n",
      "Item price: £51.77\n",
      "Item rating: Three Stars\n"
     ]
    }
   ],
   "source": [
    "import re\n",
    "\n",
    "from bs4 import BeautifulSoup\n",
    "\n",
    "ITEM_HTML = '''\n",
    "<html>\n",
    "<head></head>\n",
    "<body>\n",
    "    <li class=\"col-xs-6 col-sm-4 col-md-3 col-lg-3\">\n",
    "        <article class=\"product_pod\">\n",
    "                <div class=\"image_container\">\n",
    "                        <a href=\"catalogue/a-light-in-the-attic_1000/index.html\"><img src=\"media/cache/2c/da/2cdad67c44b002e7ead0cc35693c0e8b.jpg\" alt=\"A Light in the Attic\" class=\"thumbnail\"></a>\n",
    "                </div>\n",
    "                <p class=\"star-rating Three\">\n",
    "                    <i class=\"icon-star\"></i>\n",
    "                    <i class=\"icon-star\"></i>\n",
    "                    <i class=\"icon-star\"></i>\n",
    "                    <i class=\"icon-star\"></i>\n",
    "                    <i class=\"icon-star\"></i>\n",
    "                </p>\n",
    "                <h3>\n",
    "                    <a href=\"catalogue/a-light-in-the-attic_1000/index.html\" title=\"A Light in the Attic\">A Light in the ...</a>\n",
    "                </h3>\n",
    "                <div class=\"product_price\">\n",
    "                    <p class=\"price_color\">£51.77</p>\n",
    "                    <p class=\"instock availability\">\n",
    "                    <i class=\"icon-ok\"></i>\n",
    "                        In stock\n",
    "                    </p>\n",
    "                    <form>\n",
    "                        <button type=\"submit\" class=\"btn btn-primary btn-block\" data-loading-text=\"Adding...\">Add to basket</button>\n",
    "                    </form>\n",
    "                </div>\n",
    "        </article>\n",
    "    </li>\n",
    "    </body>\n",
    "</html>\n",
    "'''\n",
    "\n",
    "item_soup = BeautifulSoup(ITEM_HTML, 'html.parser')\n",
    "\n",
    "def find_item_name(): #CSS Selector\n",
    "    locator = 'article.product_pod h3 a'\n",
    "    item_link = item_soup.select_one(locator)\n",
    "    item_name = item_link.attrs['title']\n",
    "    return item_name\n",
    "    \n",
    "def find_item_link():\n",
    "    locator = 'article.product_pod h3 a'\n",
    "    item_link = item_soup.select_one(locator).attrs['href']\n",
    "    return item_link\n",
    "    \n",
    "def find_item_price():\n",
    "    locator = 'article div.product_price p.price_color'\n",
    "    regex = re.compile('£(\\d+\\.\\d+)')\n",
    "    item_price = item_soup.select_one(locator).string\n",
    "    float_item_price = float(regex.match(item_price).group(1))\n",
    "    return f'£{float_item_price}'\n",
    "    \n",
    "def find_item_rating():\n",
    "    locator = 'article p.star-rating'\n",
    "    item_link = item_soup.select_one(locator)\n",
    "    item_rating = list(filter(lambda x: x != 'star-rating', item_link.attrs['class']))[0]\n",
    "    return f\"{item_rating} Stars\"\n",
    "    \n",
    "    \n",
    "print(f'Item name: {find_item_name()}')\n",
    "print(f'Item relative link: {find_item_link()}')\n",
    "print(f'Item price: {find_item_price()}')\n",
    "print(f'Item rating: {find_item_rating()}')"
   ]
  }
 ],
 "metadata": {
  "kernelspec": {
   "display_name": "Python 3",
   "language": "python",
   "name": "python3"
  },
  "language_info": {
   "codemirror_mode": {
    "name": "ipython",
    "version": 3
   },
   "file_extension": ".py",
   "mimetype": "text/x-python",
   "name": "python",
   "nbconvert_exporter": "python",
   "pygments_lexer": "ipython3",
   "version": "3.6.7"
  }
 },
 "nbformat": 4,
 "nbformat_minor": 2
}
