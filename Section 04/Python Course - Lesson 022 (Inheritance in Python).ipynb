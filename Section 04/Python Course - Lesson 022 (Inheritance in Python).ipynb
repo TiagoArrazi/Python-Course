{
 "cells": [
  {
   "cell_type": "code",
   "execution_count": 2,
   "metadata": {},
   "outputs": [
    {
     "name": "stdout",
     "output_type": "stream",
     "text": [
      "15.65\n",
      "78.0\n",
      "586.875\n"
     ]
    }
   ],
   "source": [
    "class Student:\n",
    "    def __init__(self, name, school):\n",
    "        self.name = name\n",
    "        self.school = school\n",
    "        self.marks = []\n",
    "        \n",
    "    average = lambda self: sum(self.marks) / len(self.marks)\n",
    "    \n",
    "class WorkingStudent(Student): \n",
    "    def __init__(self, name, school, salary):\n",
    "        super().__init__(name, school)\n",
    "        self.salary = salary\n",
    "        \n",
    "    def weekly_salary(self):\n",
    "        return self.salary * 37.5\n",
    "        \n",
    "rolf = WorkingStudent('Rolf', 'MIT', 15.65)\n",
    "\n",
    "rolf.marks.append(57)\n",
    "rolf.marks.append(99)\n",
    "\n",
    "print(rolf.salary)\n",
    "print(rolf.average())\n",
    "print(rolf.weekly_salary())"
   ]
  }
 ],
 "metadata": {
  "kernelspec": {
   "display_name": "Python 3",
   "language": "python",
   "name": "python3"
  },
  "language_info": {
   "codemirror_mode": {
    "name": "ipython",
    "version": 3
   },
   "file_extension": ".py",
   "mimetype": "text/x-python",
   "name": "python",
   "nbconvert_exporter": "python",
   "pygments_lexer": "ipython3",
   "version": "3.6.7"
  }
 },
 "nbformat": 4,
 "nbformat_minor": 2
}
