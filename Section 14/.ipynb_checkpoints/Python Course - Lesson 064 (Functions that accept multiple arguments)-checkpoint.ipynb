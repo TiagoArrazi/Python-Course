{
 "cells": [
  {
   "cell_type": "code",
   "execution_count": 14,
   "metadata": {},
   "outputs": [
    {
     "name": "stdout",
     "output_type": "stream",
     "text": [
      "For username we have user123\n",
      "For access_level we have admin\n",
      "For username we have user456\n",
      "For access_level we have guest\n"
     ]
    }
   ],
   "source": [
    "def add_all(*args):\n",
    "    return sum(args)\n",
    "\n",
    "\n",
    "def pretty_print(**kwargs):\n",
    "    for k, v in kwargs.items():\n",
    "        print(f'For {k} we have {v}')\n",
    "        \n",
    "\n",
    "pretty_print(username='user123', access_level='admin')\n",
    "pretty_print(**{'username': 'user456', 'access_level': 'guest'})"
   ]
  }
 ],
 "metadata": {
  "kernelspec": {
   "display_name": "Python 3",
   "language": "python",
   "name": "python3"
  },
  "language_info": {
   "codemirror_mode": {
    "name": "ipython",
    "version": 3
   },
   "file_extension": ".py",
   "mimetype": "text/x-python",
   "name": "python",
   "nbconvert_exporter": "python",
   "pygments_lexer": "ipython3",
   "version": "3.6.7"
  }
 },
 "nbformat": 4,
 "nbformat_minor": 2
}
