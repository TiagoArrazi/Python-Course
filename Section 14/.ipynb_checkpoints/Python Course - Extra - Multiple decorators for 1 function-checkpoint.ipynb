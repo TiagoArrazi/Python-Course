{
 "cells": [
  {
   "cell_type": "code",
   "execution_count": 1,
   "metadata": {},
   "outputs": [
    {
     "name": "stdout",
     "output_type": "stream",
     "text": [
      "User's access_level was not 'admin'.\n",
      "None\n"
     ]
    },
    {
     "data": {
      "text/plain": [
       "'\\nWhen `double_decorator()` runs, this chain of \"functions\" runs:\\n\\nuser_has_permission -> user_name_starts_with_j -> double_decorator\\n\\nThat is because `user_name_starts_with_j` is the first decorator to be applied. It replaces `double_decorator` by the function it returns.\\n\\nThen, `user_has_permission` is applied—and it replaces the function the other decorator returned by the function it returns.\\n'"
      ]
     },
     "execution_count": 1,
     "metadata": {},
     "output_type": "execute_result"
    }
   ],
   "source": [
    "import functools\n",
    "\n",
    "# Try the various combinations below!\n",
    "user = {'username': 'jose123', 'access_level': 'admin'}\n",
    "# user = {'username': 'bob', 'access_level': 'admin'}\n",
    "# user = {'username': 'jose123', 'access_level': 'user'}\n",
    "user = {'username': 'bob', 'access_level': 'user'}\n",
    "\n",
    "\n",
    "def user_name_starts_with_j(func):\n",
    "    \"\"\"\n",
    "    This decorator only runs the function passed if the user's username starts with a j.\n",
    "    \"\"\"\n",
    "    @functools.wraps(func)\n",
    "    def secure_func(*args, **kwargs):\n",
    "        if user.get('username').startswith('j'):\n",
    "            return func(*args, **kwargs)\n",
    "        else:\n",
    "            print(\"User's username did not start with 'j'.\")\n",
    "    return secure_func\n",
    "\n",
    "\n",
    "def user_has_permission(func):\n",
    "    \"\"\"\n",
    "    This decorator only runs the function passed if the user's access_level is admin.\n",
    "    \"\"\"\n",
    "    @functools.wraps(func)\n",
    "    def secure_func(*args, **kwargs):\n",
    "        if user.get('access_level') == 'admin':\n",
    "            return func(*args, **kwargs)\n",
    "        else:\n",
    "            print(\"User's access_level was not 'admin'.\")\n",
    "    return secure_func\n",
    "\n",
    "\n",
    "@user_has_permission\n",
    "@user_name_starts_with_j\n",
    "def double_decorator():\n",
    "    return 'I ran.'\n",
    "\n",
    "print(double_decorator())\n",
    "\n",
    "\"\"\"\n",
    "When `double_decorator()` runs, this chain of \"functions\" runs:\n",
    "\n",
    "user_has_permission -> user_name_starts_with_j -> double_decorator\n",
    "\n",
    "That is because `user_name_starts_with_j` is the first decorator to be applied. It replaces `double_decorator` by the function it returns.\n",
    "\n",
    "Then, `user_has_permission` is applied—and it replaces the function the other decorator returned by the function it returns.\n",
    "\"\"\""
   ]
  }
 ],
 "metadata": {
  "kernelspec": {
   "display_name": "Python 3",
   "language": "python",
   "name": "python3"
  },
  "language_info": {
   "codemirror_mode": {
    "name": "ipython",
    "version": 3
   },
   "file_extension": ".py",
   "mimetype": "text/x-python",
   "name": "python",
   "nbconvert_exporter": "python",
   "pygments_lexer": "ipython3",
   "version": "3.6.7"
  }
 },
 "nbformat": 4,
 "nbformat_minor": 2
}
