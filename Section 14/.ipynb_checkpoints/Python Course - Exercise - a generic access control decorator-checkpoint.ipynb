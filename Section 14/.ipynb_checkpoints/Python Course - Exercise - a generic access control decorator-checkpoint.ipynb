{
 "cells": [
  {
   "cell_type": "code",
   "execution_count": 3,
   "metadata": {},
   "outputs": [
    {
     "data": {
      "text/plain": [
       "<function __main__.access_control.<locals>.wrapper(func)>"
      ]
     },
     "execution_count": 3,
     "metadata": {},
     "output_type": "execute_result"
    }
   ],
   "source": [
    "\"\"\"\n",
    "Implement a @access_control decorator that can be used like this:\n",
    "@access_control(access_level)\n",
    "def delete_some_file(filename):\n",
    "    # perform the deletion operation\n",
    "    print('{} is deleted!'.format(filename))\n",
    "Your decorator should meet the following requirements:\n",
    "- It takes in an argument `access_level` and would compare the current user's role with the access level.\n",
    "- You can get the current user's role, represented by an integer, by calling the `get_current_user_role()` function.\n",
    "    You don't need to implement this function, we will take care of it for you.\n",
    "- You may assume smaller access level value would have higher privilege. For example, 0 - admin, 1 - user, 2 - guest.\n",
    "    So you can check if the user has proper access level like this:\n",
    "if get_current_user_role() <= access_level:\n",
    "    # do something\n",
    "else:\n",
    "    # forbid\n",
    "- If the user has the proper access level, we allow the user to call the function (that has this decorator).\n",
    "- If the user does not have a proper access level, we raise a `PermissionError` with the message:\n",
    "    'You do not have the proper access level.'\n",
    "- The decorator should be generic, which means it can be applied to any function that has any amount of\n",
    "    arguments (or key word arguments).\n",
    "- Your decorator should keep the original function's `__name__` and `__doc__` strings.\n",
    "\"\"\"\n",
    "import functools\n",
    "\n",
    "# DO NOT CHANGE\n",
    "def get_current_user_role() -> int:\n",
    "    # return the current user's role, represented by an int\n",
    "    # for example, 0 - admin, 1 - user, 2 - guest\n",
    "    # You don't need to change this function, we will replace it with a real function that returns the user's role\n",
    "    return 0\n",
    "\n",
    "\n",
    "def access_control(access_level: int):\n",
    "    # You code starts here:\n",
    "    def wrapper(func):\n",
    "        @functools.wraps(func)\n",
    "        def secure_access(*args, **kwargs):\n",
    "            if get_current_user_role() <= access_level:\n",
    "                return func(*args, **kwargs)\n",
    "            raise PermissionError('You do not have the proper access level')\n",
    "        return secure_function\n",
    "    return wrapper"
   ]
  }
 ],
 "metadata": {
  "kernelspec": {
   "display_name": "Python 3",
   "language": "python",
   "name": "python3"
  },
  "language_info": {
   "codemirror_mode": {
    "name": "ipython",
    "version": 3
   },
   "file_extension": ".py",
   "mimetype": "text/x-python",
   "name": "python",
   "nbconvert_exporter": "python",
   "pygments_lexer": "ipython3",
   "version": "3.6.7"
  }
 },
 "nbformat": 4,
 "nbformat_minor": 2
}
