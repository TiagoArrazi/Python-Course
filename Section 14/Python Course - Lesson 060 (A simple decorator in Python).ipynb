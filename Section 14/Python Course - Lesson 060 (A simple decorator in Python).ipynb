{
 "cells": [
  {
   "cell_type": "code",
   "execution_count": 11,
   "metadata": {},
   "outputs": [
    {
     "name": "stdout",
     "output_type": "stream",
     "text": [
      "Password for admin panel is 1234\n"
     ]
    },
    {
     "ename": "NotEnoughPermissionError",
     "evalue": "Not enough permission for user jose456",
     "output_type": "error",
     "traceback": [
      "\u001b[0;31m---------------------------------------------------------------------------\u001b[0m",
      "\u001b[0;31mNotEnoughPermissionError\u001b[0m                  Traceback (most recent call last)",
      "\u001b[0;32m<ipython-input-11-f476cfdf7064>\u001b[0m in \u001b[0;36m<module>\u001b[0;34m\u001b[0m\n\u001b[1;32m     28\u001b[0m \u001b[0;34m\u001b[0m\u001b[0m\n\u001b[1;32m     29\u001b[0m \u001b[0mprint\u001b[0m\u001b[0;34m(\u001b[0m\u001b[0mmy_secure_function_1\u001b[0m\u001b[0;34m(\u001b[0m\u001b[0;34m)\u001b[0m\u001b[0;34m)\u001b[0m\u001b[0;34m\u001b[0m\u001b[0;34m\u001b[0m\u001b[0m\n\u001b[0;32m---> 30\u001b[0;31m \u001b[0mprint\u001b[0m\u001b[0;34m(\u001b[0m\u001b[0mmy_secure_function_2\u001b[0m\u001b[0;34m(\u001b[0m\u001b[0;34m)\u001b[0m\u001b[0;34m)\u001b[0m\u001b[0;34m\u001b[0m\u001b[0;34m\u001b[0m\u001b[0m\n\u001b[0m",
      "\u001b[0;32m<ipython-input-11-f476cfdf7064>\u001b[0m in \u001b[0;36msecure_func\u001b[0;34m()\u001b[0m\n\u001b[1;32m     18\u001b[0m         \u001b[0;32mif\u001b[0m \u001b[0muser\u001b[0m\u001b[0;34m.\u001b[0m\u001b[0mget\u001b[0m\u001b[0;34m(\u001b[0m\u001b[0;34m'access_level'\u001b[0m\u001b[0;34m)\u001b[0m \u001b[0;34m==\u001b[0m \u001b[0;34m'admin'\u001b[0m\u001b[0;34m:\u001b[0m\u001b[0;34m\u001b[0m\u001b[0;34m\u001b[0m\u001b[0m\n\u001b[1;32m     19\u001b[0m             \u001b[0;32mreturn\u001b[0m \u001b[0mfunc\u001b[0m\u001b[0;34m(\u001b[0m\u001b[0;34m)\u001b[0m\u001b[0;34m\u001b[0m\u001b[0;34m\u001b[0m\u001b[0m\n\u001b[0;32m---> 20\u001b[0;31m         \u001b[0;32mraise\u001b[0m \u001b[0mNotEnoughPermissionError\u001b[0m\u001b[0;34m(\u001b[0m\u001b[0;34mf\"Not enough permission for user {user['username']}\"\u001b[0m\u001b[0;34m)\u001b[0m\u001b[0;34m\u001b[0m\u001b[0;34m\u001b[0m\u001b[0m\n\u001b[0m\u001b[1;32m     21\u001b[0m     \u001b[0;32mreturn\u001b[0m \u001b[0msecure_func\u001b[0m\u001b[0;34m\u001b[0m\u001b[0;34m\u001b[0m\u001b[0m\n\u001b[1;32m     22\u001b[0m \u001b[0;34m\u001b[0m\u001b[0m\n",
      "\u001b[0;31mNotEnoughPermissionError\u001b[0m: Not enough permission for user jose456"
     ]
    }
   ],
   "source": [
    "class NotEnoughPermissionError(Exception):\n",
    "    def __init__(self, message):\n",
    "        super().__init__(message)\n",
    "\n",
    "user_1 = {\n",
    "    'username': 'tiago123',\n",
    "    'access_level': 'admin'\n",
    "}\n",
    "\n",
    "user_2 = {\n",
    "    'username': 'jose456',\n",
    "    'access_level': 'guest'\n",
    "}\n",
    "\n",
    "\n",
    "def user_has_permission(func, user):\n",
    "    def secure_func():\n",
    "        if user.get('access_level') == 'admin':\n",
    "            return func()\n",
    "        raise NotEnoughPermissionError(f\"Not enough permission for user {user['username']}\")\n",
    "    return secure_func\n",
    "            \n",
    "    \n",
    "def my_function():\n",
    "    return 'Password for admin panel is 1234'\n",
    "\n",
    "my_secure_function_1 = user_has_permission(my_function, user_1)\n",
    "my_secure_function_2 = user_has_permission(my_function, user_2)                                   \n",
    "\n",
    "print(my_secure_function_1())\n",
    "print(my_secure_function_2())"
   ]
  }
 ],
 "metadata": {
  "kernelspec": {
   "display_name": "Python 3",
   "language": "python",
   "name": "python3"
  },
  "language_info": {
   "codemirror_mode": {
    "name": "ipython",
    "version": 3
   },
   "file_extension": ".py",
   "mimetype": "text/x-python",
   "name": "python",
   "nbconvert_exporter": "python",
   "pygments_lexer": "ipython3",
   "version": "3.6.7"
  }
 },
 "nbformat": 4,
 "nbformat_minor": 2
}
