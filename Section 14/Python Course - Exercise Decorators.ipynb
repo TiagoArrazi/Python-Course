{
 "cells": [
  {
   "cell_type": "code",
   "execution_count": 24,
   "metadata": {},
   "outputs": [
    {
     "name": "stdout",
     "output_type": "stream",
     "text": [
      "Database deleted!\n",
      "None\n"
     ]
    }
   ],
   "source": [
    "# ---- Do not change the code below ----\n",
    "# User identity dictionary\n",
    "user = {\n",
    "    'id': 1,\n",
    "    'name': 'jose',\n",
    "    'role': 'admin'\n",
    "}\n",
    "\n",
    "# delete_database() function, DO NOT CHANGE\n",
    "def delete_database():\n",
    "    # perform deletion\n",
    "    print('Database deleted!')\n",
    "\n",
    "# ---- Do not change the code above ----\n",
    "\n",
    "\n",
    "# You code starts here:\n",
    "# Define a check_permission() decorator:\n",
    "def check_permission(func):\n",
    "    def secure_delete():\n",
    "        if user.get('role') == 'admin':\n",
    "            return func()\n",
    "        raise PermissionError('Not an admin')\n",
    "    return secure_delete\n",
    "\n",
    "# Use the check_permission() decorator and delete_database() function to create a secure_delete_database() function:\n",
    "secure_delete_database = check_permission(delete_database)\n",
    "print(secure_delete_database())"
   ]
  }
 ],
 "metadata": {
  "kernelspec": {
   "display_name": "Python 3",
   "language": "python",
   "name": "python3"
  },
  "language_info": {
   "codemirror_mode": {
    "name": "ipython",
    "version": 3
   },
   "file_extension": ".py",
   "mimetype": "text/x-python",
   "name": "python",
   "nbconvert_exporter": "python",
   "pygments_lexer": "ipython3",
   "version": "3.6.7"
  }
 },
 "nbformat": 4,
 "nbformat_minor": 2
}
