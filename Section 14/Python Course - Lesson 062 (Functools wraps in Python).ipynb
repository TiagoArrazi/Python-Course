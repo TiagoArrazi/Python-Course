{
 "cells": [
  {
   "cell_type": "code",
   "execution_count": 6,
   "metadata": {},
   "outputs": [
    {
     "name": "stdout",
     "output_type": "stream",
     "text": [
      "my_function\n",
      "another\n"
     ]
    }
   ],
   "source": [
    "import functools\n",
    "\n",
    "\n",
    "class NotEnoughPermissionError(Exception):\n",
    "    def __init__(self, message):\n",
    "        super().__init__(message)\n",
    "\n",
    "user_1 = {\n",
    "    'username': 'user123',\n",
    "    'access_level': 'admin'\n",
    "}\n",
    "\n",
    "user_2 = {\n",
    "    'username': 'user456',\n",
    "    'access_level': 'guest'\n",
    "}\n",
    "\n",
    "\n",
    "def user_has_permission(user):\n",
    "    def wrapper(func):\n",
    "        @functools.wraps(func)\n",
    "        def secure_function():\n",
    "            if user.get('access_level') == 'admin':\n",
    "                return func()\n",
    "            raise NotEnoughPermissionError(f\"Not enough permission for user {user['username']}\")\n",
    "        return secure_function\n",
    "    return wrapper\n",
    "    \n",
    "\n",
    "                                       \n",
    "@user_has_permission(user_1)\n",
    "def my_function():\n",
    "    return 'Password for admin panel is 1234'\n",
    "# my_function = user_has_permission(user_1)(my_function)\n",
    "                                           \n",
    "                                           \n",
    "@user_has_permission(user_1)\n",
    "def another():\n",
    "    pass\n",
    "                                    \n",
    "print(my_function.__name__)\n",
    "print(another.__name__)\n"
   ]
  }
 ],
 "metadata": {
  "kernelspec": {
   "display_name": "Python 3",
   "language": "python",
   "name": "python3"
  },
  "language_info": {
   "codemirror_mode": {
    "name": "ipython",
    "version": 3
   },
   "file_extension": ".py",
   "mimetype": "text/x-python",
   "name": "python",
   "nbconvert_exporter": "python",
   "pygments_lexer": "ipython3",
   "version": "3.6.7"
  }
 },
 "nbformat": 4,
 "nbformat_minor": 2
}
