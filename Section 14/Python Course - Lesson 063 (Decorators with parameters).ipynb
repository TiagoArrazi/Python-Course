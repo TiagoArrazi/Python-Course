{
 "cells": [
  {
   "cell_type": "code",
   "execution_count": 4,
   "metadata": {},
   "outputs": [
    {
     "name": "stdout",
     "output_type": "stream",
     "text": [
      "Password for admin panel is 1234\n"
     ]
    }
   ],
   "source": [
    "class NotEnoughPermissionError(Exception):\n",
    "    def __init__(self, message):\n",
    "        super().__init__(message)\n",
    "\n",
    "user_1 = {\n",
    "    'username': 'user123',\n",
    "    'access_level': 'admin'\n",
    "}\n",
    "\n",
    "user_2 = {\n",
    "    'username': 'user456',\n",
    "    'access_level': 'guest'\n",
    "}\n",
    "\n",
    "\n",
    "def user_has_permission(user, access_level):\n",
    "    def wrapper(func):\n",
    "        def secure_function():\n",
    "            if user.get('access_level') == access_level:\n",
    "                return func()\n",
    "            raise NotEnoughPermissionError(f\"Not enough permission for user {user['username']}\")\n",
    "        return secure_function\n",
    "    return wrapper\n",
    "    \n",
    "\n",
    "                                       \n",
    "@user_has_permission(user_2, 'guest')\n",
    "def my_function():\n",
    "    return 'Password for admin panel is 1234'\n",
    "\n",
    "                                           \n",
    "print(my_function())"
   ]
  }
 ],
 "metadata": {
  "kernelspec": {
   "display_name": "Python 3",
   "language": "python",
   "name": "python3"
  },
  "language_info": {
   "codemirror_mode": {
    "name": "ipython",
    "version": 3
   },
   "file_extension": ".py",
   "mimetype": "text/x-python",
   "name": "python",
   "nbconvert_exporter": "python",
   "pygments_lexer": "ipython3",
   "version": "3.6.7"
  }
 },
 "nbformat": 4,
 "nbformat_minor": 2
}
