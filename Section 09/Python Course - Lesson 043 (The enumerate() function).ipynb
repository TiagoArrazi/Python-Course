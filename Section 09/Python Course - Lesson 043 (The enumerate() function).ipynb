{
 "cells": [
  {
   "cell_type": "code",
   "execution_count": 2,
   "metadata": {},
   "outputs": [
    {
     "name": "stdout",
     "output_type": "stream",
     "text": [
      "My top 1 friend is Jose\n",
      "My top 2 friend is Rolf\n",
      "My top 3 friend is Anna\n"
     ]
    }
   ],
   "source": [
    "top_friends = ['Jose', 'Rolf', 'Anna']\n",
    "\n",
    "for i, friend in enumerate(top_friends):\n",
    "    print(f'My top {i+1} friend is {friend}')"
   ]
  },
  {
   "cell_type": "code",
   "execution_count": 3,
   "metadata": {},
   "outputs": [
    {
     "name": "stdout",
     "output_type": "stream",
     "text": [
      "(0, 'Jose')\n",
      "(1, 'Rolf')\n",
      "(2, 'Anna')\n"
     ]
    }
   ],
   "source": [
    "friend_g = enumerate(top_friends)\n",
    "\n",
    "print(next(friend_g))\n",
    "print(next(friend_g))\n",
    "print(next(friend_g))"
   ]
  }
 ],
 "metadata": {
  "kernelspec": {
   "display_name": "Python 3",
   "language": "python",
   "name": "python3"
  },
  "language_info": {
   "codemirror_mode": {
    "name": "ipython",
    "version": 3
   },
   "file_extension": ".py",
   "mimetype": "text/x-python",
   "name": "python",
   "nbconvert_exporter": "python",
   "pygments_lexer": "ipython3",
   "version": "3.6.7"
  }
 },
 "nbformat": 4,
 "nbformat_minor": 2
}
