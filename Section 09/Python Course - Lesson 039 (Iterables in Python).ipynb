{
 "cells": [
  {
   "cell_type": "code",
   "execution_count": 5,
   "metadata": {},
   "outputs": [
    {
     "name": "stdout",
     "output_type": "stream",
     "text": [
      "4950\n"
     ]
    }
   ],
   "source": [
    "class FirstHundredGenerator: #Iterator and Iterable\n",
    "    def __init__(self):\n",
    "        self.number = 0\n",
    "        \n",
    "    def __next__(self): #next(my_object)\n",
    "        if self.number < 100:\n",
    "            current = self.number\n",
    "            self.number += 1\n",
    "            return current\n",
    "        else:\n",
    "            raise StopIteration()\n",
    "            \n",
    "    def __iter__(self):\n",
    "        return self\n",
    "\n",
    "\n",
    "print(sum(FirstHundredGenerator()))"
   ]
  },
  {
   "cell_type": "code",
   "execution_count": 7,
   "metadata": {},
   "outputs": [
    {
     "name": "stdout",
     "output_type": "stream",
     "text": [
      "Fiesta\n",
      "Focus\n"
     ]
    }
   ],
   "source": [
    "class AnotherIterable:\n",
    "    def __init__(self):\n",
    "        self.cars = ['Fiesta', 'Focus']\n",
    "        \n",
    "    def __len__(self):\n",
    "        return len(self.cars)\n",
    "    \n",
    "    def __getitem__(self, index):\n",
    "        return self.cars[index]\n",
    "    \n",
    "for car in AnotherIterable():\n",
    "    print(car)"
   ]
  }
 ],
 "metadata": {
  "kernelspec": {
   "display_name": "Python 3",
   "language": "python",
   "name": "python3"
  },
  "language_info": {
   "codemirror_mode": {
    "name": "ipython",
    "version": 3
   },
   "file_extension": ".py",
   "mimetype": "text/x-python",
   "name": "python",
   "nbconvert_exporter": "python",
   "pygments_lexer": "ipython3",
   "version": "3.6.7"
  }
 },
 "nbformat": 4,
 "nbformat_minor": 2
}
