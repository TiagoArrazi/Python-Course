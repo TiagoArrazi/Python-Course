{
 "cells": [
  {
   "cell_type": "code",
   "execution_count": 15,
   "metadata": {},
   "outputs": [
    {
     "name": "stdout",
     "output_type": "stream",
     "text": [
      "\n",
      "    Exception raised when a specific error code is needed\n",
      "    \n"
     ]
    }
   ],
   "source": [
    "class RunTimeErrorWithCode(Exception):\n",
    "    '''\n",
    "    Exception raised when a specific error code is needed\n",
    "    '''\n",
    "    \n",
    "    def __init__ (self, message, code):\n",
    "        super().__init__(f'Error code {code} : {message}')\n",
    "        self.code = code\n",
    "        \n",
    "err =  RunTimeErrorWithCode('An error occurred', 500)\n",
    "print(err.__doc__)\n",
    "        \n",
    "    "
   ]
  },
  {
   "cell_type": "code",
   "execution_count": 14,
   "metadata": {},
   "outputs": [
    {
     "ename": "RunTimeErrorWithCode",
     "evalue": "Error code 500 : An error occurred",
     "output_type": "error",
     "traceback": [
      "\u001b[0;31m---------------------------------------------------------------------------\u001b[0m",
      "\u001b[0;31mRunTimeErrorWithCode\u001b[0m                      Traceback (most recent call last)",
      "\u001b[0;32m<ipython-input-14-6aada15cd9af>\u001b[0m in \u001b[0;36m<module>\u001b[0;34m()\u001b[0m\n\u001b[1;32m      5\u001b[0m         \u001b[0mself\u001b[0m\u001b[0;34m.\u001b[0m\u001b[0mcode\u001b[0m \u001b[0;34m=\u001b[0m \u001b[0mcode\u001b[0m\u001b[0;34m\u001b[0m\u001b[0;34m\u001b[0m\u001b[0m\n\u001b[1;32m      6\u001b[0m \u001b[0;34m\u001b[0m\u001b[0m\n\u001b[0;32m----> 7\u001b[0;31m \u001b[0;32mraise\u001b[0m \u001b[0mRunTimeErrorWithCode\u001b[0m\u001b[0;34m(\u001b[0m\u001b[0;34m'An error occurred'\u001b[0m\u001b[0;34m,\u001b[0m \u001b[0;36m500\u001b[0m\u001b[0;34m)\u001b[0m\u001b[0;34m\u001b[0m\u001b[0;34m\u001b[0m\u001b[0m\n\u001b[0m",
      "\u001b[0;31mRunTimeErrorWithCode\u001b[0m: Error code 500 : An error occurred"
     ]
    }
   ],
   "source": [
    "class RunTimeErrorWithCode(Exception):\n",
    "    \n",
    "    def __init__ (self, message, code):\n",
    "        super().__init__(f'Error code {code} : {message}')\n",
    "        self.code = code\n",
    "        \n",
    "raise RunTimeErrorWithCode('An error occurred', 500)"
   ]
  }
 ],
 "metadata": {
  "kernelspec": {
   "display_name": "Python 3",
   "language": "python",
   "name": "python3"
  },
  "language_info": {
   "codemirror_mode": {
    "name": "ipython",
    "version": 3
   },
   "file_extension": ".py",
   "mimetype": "text/x-python",
   "name": "python",
   "nbconvert_exporter": "python",
   "pygments_lexer": "ipython3",
   "version": "3.6.7"
  }
 },
 "nbformat": 4,
 "nbformat_minor": 2
}
