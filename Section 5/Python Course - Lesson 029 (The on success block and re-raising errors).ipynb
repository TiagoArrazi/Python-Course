{
 "cells": [
  {
   "cell_type": "code",
   "execution_count": 22,
   "metadata": {},
   "outputs": [
    {
     "name": "stdout",
     "output_type": "stream",
     "text": [
      "Notification sent to <User Rolf>.\n"
     ]
    }
   ],
   "source": [
    "class User:\n",
    "    def __init__(self, name, engagement):\n",
    "        self.name = name\n",
    "        self.engagement_metrics = engagement\n",
    "        self.score = 0\n",
    "        \n",
    "    def __repr__(self):\n",
    "        return f'<User {self.name}>'\n",
    "    \n",
    "def email_engaged_users(user):\n",
    "    try:\n",
    "        user.score = perform_calculation(user.engagement_metrics)\n",
    "    except KeyError:\n",
    "        print('Incorrect values provided to our calculation function')\n",
    "        raise\n",
    "    else:\n",
    "        if user.score > 500:\n",
    "            send_engagement_notification(user)\n",
    "        \n",
    "        \n",
    "def perform_calculation(metrics):\n",
    "    return metrics['clicks'] * 5 + metrics['hits'] * 2\n",
    "\n",
    "def send_engagement_notification(user):\n",
    "    print(f'Notification sent to {user}.')\n",
    "    \n",
    "my_user = User('Rolf', {'clicks': 61, 'hits': 100})\n",
    "email_engaged_users(my_user)"
   ]
  }
 ],
 "metadata": {
  "kernelspec": {
   "display_name": "Python 3",
   "language": "python",
   "name": "python3"
  },
  "language_info": {
   "codemirror_mode": {
    "name": "ipython",
    "version": 3
   },
   "file_extension": ".py",
   "mimetype": "text/x-python",
   "name": "python",
   "nbconvert_exporter": "python",
   "pygments_lexer": "ipython3",
   "version": "3.6.7"
  }
 },
 "nbformat": 4,
 "nbformat_minor": 2
}
