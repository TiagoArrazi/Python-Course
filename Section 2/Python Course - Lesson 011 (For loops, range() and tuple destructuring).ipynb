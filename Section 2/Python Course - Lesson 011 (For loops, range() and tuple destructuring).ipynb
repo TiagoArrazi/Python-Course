{
 "cells": [
  {
   "cell_type": "code",
   "execution_count": 1,
   "metadata": {},
   "outputs": [
    {
     "name": "stdout",
     "output_type": "stream",
     "text": [
      "2 is a prime number\n",
      "3 is a prime number\n",
      "5 is a prime number\n",
      "7 is a prime number\n",
      "11 is a prime number\n"
     ]
    }
   ],
   "source": [
    "primes = [2, 3, 5, 7, 11] #iterable\n",
    "\n",
    "for prime in primes:\n",
    "    print(f'{prime} is a prime number')"
   ]
  },
  {
   "cell_type": "code",
   "execution_count": 2,
   "metadata": {},
   "outputs": [
    {
     "name": "stdout",
     "output_type": "stream",
     "text": [
      "I have a 3 year old kid\n",
      "I have a 7 year old kid\n",
      "I have a 12 year old kid\n"
     ]
    }
   ],
   "source": [
    "kid_ages = (3, 7, 12) #iterable\n",
    "for age in kid_ages:\n",
    "    print(f'I have a {age} year old kid')"
   ]
  },
  {
   "cell_type": "code",
   "execution_count": 3,
   "metadata": {},
   "outputs": [
    {
     "name": "stdout",
     "output_type": "stream",
     "text": [
      "0\n",
      "1\n",
      "2\n",
      "3\n",
      "4\n",
      "5\n",
      "6\n",
      "7\n",
      "8\n",
      "9\n",
      "10\n",
      "11\n",
      "12\n",
      "13\n",
      "14\n",
      "15\n",
      "16\n",
      "17\n",
      "18\n",
      "19\n"
     ]
    }
   ],
   "source": [
    "for i in range(20): #from 0 to 19\n",
    "    print(i)"
   ]
  },
  {
   "cell_type": "code",
   "execution_count": 9,
   "metadata": {},
   "outputs": [
    {
     "name": "stdout",
     "output_type": "stream",
     "text": [
      "I last saw Jose 6 days ago\n",
      "I last saw Rolf 12 days ago\n",
      "I last saw Anne 6 days ago\n"
     ]
    }
   ],
   "source": [
    "my_friends = {\n",
    "    'Jose': 6,\n",
    "    'Rolf': 12,\n",
    "    'Anne': 6\n",
    "}\n",
    "\n",
    "key_list = list(my_friends.keys())\n",
    "\n",
    "for name, days in my_friends.items():\n",
    "    print(f'I last saw {name} {days} days ago')"
   ]
  },
  {
   "cell_type": "code",
   "execution_count": 10,
   "metadata": {},
   "outputs": [
    {
     "name": "stdout",
     "output_type": "stream",
     "text": [
      "dict_items([('Jose', 6), ('Rolf', 12), ('Anne', 6)])\n"
     ]
    }
   ],
   "source": [
    "print(my_friends.items())"
   ]
  },
  {
   "cell_type": "code",
   "execution_count": 13,
   "metadata": {},
   "outputs": [
    {
     "name": "stdout",
     "output_type": "stream",
     "text": [
      "I last saw Jose 6 days ago\n",
      "I last saw Rolf 12 days ago\n",
      "I last saw Anne 6 days ago\n"
     ]
    }
   ],
   "source": [
    "for t in ([('Jose', 6), ('Rolf', 12), ('Anne', 6)]):\n",
    "    (n, v) = t\n",
    "    print(f'I last saw {n} {v} days ago')\n",
    "    "
   ]
  },
  {
   "cell_type": "code",
   "execution_count": 14,
   "metadata": {},
   "outputs": [
    {
     "name": "stdout",
     "output_type": "stream",
     "text": [
      "I know Rolf\n"
     ]
    }
   ],
   "source": [
    "for name, days in my_friends.items():\n",
    "    if name == 'Rolf':\n",
    "        print('I know Rolf')"
   ]
  },
  {
   "cell_type": "code",
   "execution_count": 15,
   "metadata": {},
   "outputs": [
    {
     "name": "stdout",
     "output_type": "stream",
     "text": [
      "I also know Anne\n"
     ]
    }
   ],
   "source": [
    "who_do_i_know = 'Anne'\n",
    "if who_do_i_know in my_friends:\n",
    "    print('I also know Anne')"
   ]
  }
 ],
 "metadata": {
  "kernelspec": {
   "display_name": "Python 3",
   "language": "python",
   "name": "python3"
  },
  "language_info": {
   "codemirror_mode": {
    "name": "ipython",
    "version": 3
   },
   "file_extension": ".py",
   "mimetype": "text/x-python",
   "name": "python",
   "nbconvert_exporter": "python",
   "pygments_lexer": "ipython3",
   "version": "3.6.5"
  }
 },
 "nbformat": 4,
 "nbformat_minor": 2
}
