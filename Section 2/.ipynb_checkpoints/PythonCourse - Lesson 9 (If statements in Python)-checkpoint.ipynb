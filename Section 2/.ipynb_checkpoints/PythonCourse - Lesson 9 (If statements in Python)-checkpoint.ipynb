{
 "cells": [
  {
   "cell_type": "code",
   "execution_count": 1,
   "metadata": {},
   "outputs": [
    {
     "name": "stdout",
     "output_type": "stream",
     "text": [
      "You are awesome\n"
     ]
    }
   ],
   "source": [
    "programmer = True\n",
    "\n",
    "if programmer is True:\n",
    "    print('You are awesome')"
   ]
  },
  {
   "cell_type": "code",
   "execution_count": 3,
   "metadata": {},
   "outputs": [
    {
     "name": "stdout",
     "output_type": "stream",
     "text": [
      "Learn some programming\n"
     ]
    }
   ],
   "source": [
    "is_programmer = False\n",
    "\n",
    "if is_programmer is True:\n",
    "    print('You are awesome')\n",
    "else:\n",
    "    print('Learn some programming')"
   ]
  },
  {
   "cell_type": "code",
   "execution_count": 5,
   "metadata": {},
   "outputs": [
    {
     "name": "stdout",
     "output_type": "stream",
     "text": [
      "You are awesome\n"
     ]
    }
   ],
   "source": [
    "is_programmer = True\n",
    "is_awesome = True\n",
    "\n",
    "if is_programmer:\n",
    "    print('You are the best!')"
   ]
  },
  {
   "cell_type": "code",
   "execution_count": 6,
   "metadata": {},
   "outputs": [
    {
     "name": "stdout",
     "output_type": "stream",
     "text": [
      "You are the best\n"
     ]
    }
   ],
   "source": [
    "if is_programmer:\n",
    "    print('You are the best')\n",
    "elif is_awesome:\n",
    "    print('You are not the best, but you are still awesome')\n",
    "else:\n",
    "    print('Be awesome')\n"
   ]
  }
 ],
 "metadata": {
  "kernelspec": {
   "display_name": "Python 3",
   "language": "python",
   "name": "python3"
  },
  "language_info": {
   "codemirror_mode": {
    "name": "ipython",
    "version": 3
   },
   "file_extension": ".py",
   "mimetype": "text/x-python",
   "name": "python",
   "nbconvert_exporter": "python",
   "pygments_lexer": "ipython3",
   "version": "3.6.5"
  }
 },
 "nbformat": 4,
 "nbformat_minor": 2
}
