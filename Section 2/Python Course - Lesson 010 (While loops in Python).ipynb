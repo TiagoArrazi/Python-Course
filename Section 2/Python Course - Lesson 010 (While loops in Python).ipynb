{
 "cells": [
  {
   "cell_type": "code",
   "execution_count": null,
   "metadata": {},
   "outputs": [],
   "source": [
    "is_programmer = True\n",
    "while is_programmer:  # is_programmer is True\n",
    "  print('Hello, world!')\n",
    "  is_programmer = False"
   ]
  },
  {
   "cell_type": "code",
   "execution_count": null,
   "metadata": {},
   "outputs": [],
   "source": [
    "i = 0\n",
    "while i < 10:\n",
    "  print(f'Repeated {i} times')\n",
    "  i += 1"
   ]
  },
  {
   "cell_type": "code",
   "execution_count": 1,
   "metadata": {},
   "outputs": [
    {
     "name": "stdout",
     "output_type": "stream",
     "text": [
      "Heating...\n",
      "Heating...\n",
      "Heating...\n",
      "Heating...\n",
      "Heating...\n",
      "HOT!\n"
     ]
    }
   ],
   "source": [
    "temperature = 15\n",
    "\n",
    "while temperature < 20:\n",
    "  print('Heating...')\n",
    "  temperature += 1\n",
    "    \n",
    "print('HOT!')"
   ]
  }
 ],
 "metadata": {
  "kernelspec": {
   "display_name": "Python 3",
   "language": "python",
   "name": "python3"
  },
  "language_info": {
   "codemirror_mode": {
    "name": "ipython",
    "version": 3
   },
   "file_extension": ".py",
   "mimetype": "text/x-python",
   "name": "python",
   "nbconvert_exporter": "python",
   "pygments_lexer": "ipython3",
   "version": "3.6.5"
  }
 },
 "nbformat": 4,
 "nbformat_minor": 2
}
