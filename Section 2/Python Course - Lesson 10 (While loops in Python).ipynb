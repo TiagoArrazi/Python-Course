{
 "cells": [
  {
   "cell_type": "code",
   "execution_count": 1,
   "metadata": {},
   "outputs": [
    {
     "name": "stdout",
     "output_type": "stream",
     "text": [
      "Learn programming!\n",
      "Are you a programmer yet? no\n",
      "Learn programming!\n",
      "Are you a programmer yet? no\n",
      "Learn programming!\n",
      "Are you a programmer yet? yes\n"
     ]
    }
   ],
   "source": [
    "is_programmer = False\n",
    "\n",
    "while not is_programmer:\n",
    "    print('Learn programming!')\n",
    "    user_is_programmer = input('Are you a programmer yet? ')\n",
    "    is_programmer = user_is_programmer == 'yes'"
   ]
  },
  {
   "cell_type": "code",
   "execution_count": 2,
   "metadata": {},
   "outputs": [
    {
     "name": "stdout",
     "output_type": "stream",
     "text": [
      "Respeated 0 times\n",
      "Respeated 1 times\n",
      "Respeated 2 times\n",
      "Respeated 3 times\n",
      "Respeated 4 times\n",
      "Respeated 5 times\n",
      "Respeated 6 times\n",
      "Respeated 7 times\n",
      "Respeated 8 times\n",
      "Respeated 9 times\n"
     ]
    }
   ],
   "source": [
    "i = 0\n",
    "\n",
    "while i < 10:\n",
    "    print(f'Respeated {i} times')\n",
    "    i += 1"
   ]
  },
  {
   "cell_type": "code",
   "execution_count": 4,
   "metadata": {},
   "outputs": [
    {
     "name": "stdout",
     "output_type": "stream",
     "text": [
      "heating...\n",
      "heating...\n",
      "heating...\n",
      "heating...\n",
      "heating...\n",
      "HOT!\n"
     ]
    }
   ],
   "source": [
    "temperature = 15\n",
    "\n",
    "while temperature < 20:\n",
    "    print('heating...')\n",
    "    temperature += 1\n",
    "print('HOT!')"
   ]
  }
 ],
 "metadata": {
  "kernelspec": {
   "display_name": "Python 3",
   "language": "python",
   "name": "python3"
  },
  "language_info": {
   "codemirror_mode": {
    "name": "ipython",
    "version": 3
   },
   "file_extension": ".py",
   "mimetype": "text/x-python",
   "name": "python",
   "nbconvert_exporter": "python",
   "pygments_lexer": "ipython3",
   "version": "3.6.5"
  }
 },
 "nbformat": 4,
 "nbformat_minor": 2
}
