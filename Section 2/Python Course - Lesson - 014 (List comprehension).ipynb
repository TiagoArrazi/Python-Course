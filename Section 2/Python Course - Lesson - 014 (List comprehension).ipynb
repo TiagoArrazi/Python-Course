{
 "cells": [
  {
   "cell_type": "code",
   "execution_count": 5,
   "metadata": {},
   "outputs": [
    {
     "name": "stdout",
     "output_type": "stream",
     "text": [
      "[0, 2, 4, 6, 8, 10, 12, 14, 16, 18]\n",
      "[0, 1, 2, 3, 4, 5, 6, 7, 8, 9]\n"
     ]
    }
   ],
   "source": [
    "numbers = list(range(10))\n",
    "doubled_numbers = [n * 2 for n in numbers]\n",
    "\n",
    "print(doubled_numbers)\n",
    "print(numbers)"
   ]
  },
  {
   "cell_type": "code",
   "execution_count": 7,
   "metadata": {},
   "outputs": [
    {
     "name": "stdout",
     "output_type": "stream",
     "text": [
      "I am 0 years old.\n",
      "I am 2 years old.\n",
      "I am 4 years old.\n",
      "I am 6 years old.\n",
      "I am 8 years old.\n",
      "I am 10 years old.\n",
      "I am 12 years old.\n",
      "I am 14 years old.\n",
      "I am 16 years old.\n",
      "I am 18 years old.\n"
     ]
    }
   ],
   "source": [
    "phrases = [f'I am {age} years old.' for age in doubled_numbers]\n",
    "for phrase in phrases:\n",
    "    print(phrase)"
   ]
  },
  {
   "cell_type": "code",
   "execution_count": 12,
   "metadata": {},
   "outputs": [
    {
     "name": "stdout",
     "output_type": "stream",
     "text": [
      "['john', 'rolf', 'anne']\n"
     ]
    }
   ],
   "source": [
    "names_list = ['John', 'Rolf', 'Anne']\n",
    "lowercase_names = [name.lower() for name in names_list]\n",
    "\n",
    "print(lowercase_names)"
   ]
  },
  {
   "cell_type": "code",
   "execution_count": 10,
   "metadata": {},
   "outputs": [
    {
     "name": "stdout",
     "output_type": "stream",
     "text": [
      "Enter your friend name: John\n",
      "True\n"
     ]
    }
   ],
   "source": [
    "friend = input('Enter your friend name: ')\n",
    "print(friend.lower() in lowercase_names)"
   ]
  },
  {
   "cell_type": "code",
   "execution_count": 11,
   "metadata": {},
   "outputs": [
    {
     "name": "stdout",
     "output_type": "stream",
     "text": [
      "[0, 2, 4, 6, 8]\n"
     ]
    }
   ],
   "source": [
    "evens = [n for n in numbers if n % 2 == 0]\n",
    "print(evens)"
   ]
  },
  {
   "cell_type": "code",
   "execution_count": 42,
   "metadata": {},
   "outputs": [
    {
     "name": "stdout",
     "output_type": "stream",
     "text": [
      "['Rolf', 'Ruth', 'Charlie']\n"
     ]
    }
   ],
   "source": [
    "friends = ['rolf', 'Ruth', 'charlie']\n",
    "guests = ['Jose', 'Rolf', 'ruth', 'Charlie', 'michael']\n",
    "\n",
    "lowercase_friends = [n.lower() for n in friends]\n",
    "\n",
    "present_friends = [name.capitalize() for name in guests if name.lower() in lowercase_friends]\n",
    "print(present_friends)"
   ]
  }
 ],
 "metadata": {
  "kernelspec": {
   "display_name": "Python 3",
   "language": "python",
   "name": "python3"
  },
  "language_info": {
   "codemirror_mode": {
    "name": "ipython",
    "version": 3
   },
   "file_extension": ".py",
   "mimetype": "text/x-python",
   "name": "python",
   "nbconvert_exporter": "python",
   "pygments_lexer": "ipython3",
   "version": "3.6.5"
  }
 },
 "nbformat": 4,
 "nbformat_minor": 2
}
