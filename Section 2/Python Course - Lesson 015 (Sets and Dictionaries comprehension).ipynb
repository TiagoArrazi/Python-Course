{
 "cells": [
  {
   "cell_type": "code",
   "execution_count": 4,
   "metadata": {},
   "outputs": [
    {
     "name": "stdout",
     "output_type": "stream",
     "text": [
      "{'Rolf', 'Charlie'}\n"
     ]
    }
   ],
   "source": [
    "friends = {'rolf', 'anna', 'charlie'} #set\n",
    "guests = {'jose', 'rolf', 'ruth', 'charlie', 'michael'} #set\n",
    "\n",
    "present_friends = {name.capitalize() for name in friends & guests}\n",
    "print(present_friends)"
   ]
  },
  {
   "cell_type": "code",
   "execution_count": 5,
   "metadata": {},
   "outputs": [
    {
     "name": "stdout",
     "output_type": "stream",
     "text": [
      "{'Rolf': 10, 'Anna': 15, 'Charlie': 8}\n"
     ]
    }
   ],
   "source": [
    "names = ['Rolf', 'Anna', 'Charlie']\n",
    "time_last_seen = [10, 15, 8]\n",
    "\n",
    "friends_last_seen = {names[i] : time_last_seen[i] for i in range(len(names))}\n",
    "\n",
    "#-------------------------or----------------------------\n",
    "\n",
    "friends_last_seen = dict(zip(names,time_last_seen))\n",
    "\n",
    "print(friends_last_seen)"
   ]
  }
 ],
 "metadata": {
  "kernelspec": {
   "display_name": "Python 3",
   "language": "python",
   "name": "python3"
  },
  "language_info": {
   "codemirror_mode": {
    "name": "ipython",
    "version": 3
   },
   "file_extension": ".py",
   "mimetype": "text/x-python",
   "name": "python",
   "nbconvert_exporter": "python",
   "pygments_lexer": "ipython3",
   "version": "3.6.5"
  }
 },
 "nbformat": 4,
 "nbformat_minor": 2
}
