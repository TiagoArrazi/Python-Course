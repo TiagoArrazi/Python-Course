{
 "cells": [
  {
   "cell_type": "code",
   "execution_count": 20,
   "metadata": {},
   "outputs": [
    {
     "name": "stdout",
     "output_type": "stream",
     "text": [
      "Rolf won US$10000\n"
     ]
    }
   ],
   "source": [
    "import random\n",
    "\n",
    "# This line creates a set with 6 random numbers\n",
    "lottery_numbers = set(random.sample(list(range(22)), 6))\n",
    "\n",
    "# Here are your players; find out who has the most numbers matching lottery_numbers!\n",
    "players = [\n",
    "    {'name': 'Rolf', 'numbers': {1, 3, 5, 7, 9, 11}},\n",
    "    {'name': 'Charlie', 'numbers': {2, 7, 9, 22, 10, 5}},\n",
    "    {'name': 'Anna', 'numbers': {13, 14, 15, 16, 17, 18}},\n",
    "    {'name': 'Jen', 'numbers': {19, 20, 12, 7, 3, 5}}\n",
    "]\n",
    "\n",
    "# Then, print out a line such as \"Jen won 1000.\".\n",
    "# The winnings are calculated with the formula:\n",
    "# 100 ** len(numbers_matched)\n",
    "\n",
    "top_player = players[0]\n",
    "\n",
    "for player in players:\n",
    "    if  len(player['numbers'] & lottery_numbers) > len(top_player['numbers'] & lottery_numbers):\n",
    "        top_player = player\n",
    "\n",
    "print(f\"{top_player['name']} won US${100 ** (len(top_player['numbers'] & lottery_numbers))}\")"
   ]
  }
 ],
 "metadata": {
  "kernelspec": {
   "display_name": "Python 3",
   "language": "python",
   "name": "python3"
  },
  "language_info": {
   "codemirror_mode": {
    "name": "ipython",
    "version": 3
   },
   "file_extension": ".py",
   "mimetype": "text/x-python",
   "name": "python",
   "nbconvert_exporter": "python",
   "pygments_lexer": "ipython3",
   "version": "3.6.7"
  }
 },
 "nbformat": 4,
 "nbformat_minor": 2
}
