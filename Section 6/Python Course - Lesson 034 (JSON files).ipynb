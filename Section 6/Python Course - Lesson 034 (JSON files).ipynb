{
 "cells": [
  {
   "cell_type": "code",
   "execution_count": 2,
   "metadata": {},
   "outputs": [
    {
     "name": "stdout",
     "output_type": "stream",
     "text": [
      "Jose has a degree in Applied Computing\n",
      "Rolf has a degree in Computer Science\n",
      "Anna has a degree in Physics\n"
     ]
    }
   ],
   "source": [
    "import json\n",
    "\n",
    "friends_json_file = open('Lesson034_friends_json.txt', 'r')\n",
    "my_friends = json.load(friends_json_file)\n",
    "\n",
    "for friend in my_friends['friends']:\n",
    "    print(\"{} has a degree in {}\".format(friend['name'], friend['degree']))"
   ]
  },
  {
   "cell_type": "code",
   "execution_count": 4,
   "metadata": {},
   "outputs": [],
   "source": [
    "cars = [\n",
    "    {'make': 'Ford','model': 'Fiesta'},\n",
    "    {'make': 'Ford','model': 'Focus'}\n",
    "]\n",
    "\n",
    "with open('Lesson034_cars_json.txt', 'w+') as car_json_file:\n",
    "    json.dump(cars, car_json_file)"
   ]
  },
  {
   "cell_type": "code",
   "execution_count": 12,
   "metadata": {},
   "outputs": [
    {
     "name": "stdout",
     "output_type": "stream",
     "text": [
      "Alfa Romeo\n",
      "1950\n"
     ]
    }
   ],
   "source": [
    "my_json_string = '[{\"name\": \"Alfa Romeo\", \"released\": 1950}]'\n",
    "json_car = json.loads(my_json_string)\n",
    "\n",
    "print(json_car[0]['name'])\n",
    "print(json_car[0]['released'])"
   ]
  }
 ],
 "metadata": {
  "kernelspec": {
   "display_name": "Python 3",
   "language": "python",
   "name": "python3"
  },
  "language_info": {
   "codemirror_mode": {
    "name": "ipython",
    "version": 3
   },
   "file_extension": ".py",
   "mimetype": "text/x-python",
   "name": "python",
   "nbconvert_exporter": "python",
   "pygments_lexer": "ipython3",
   "version": "3.6.7"
  }
 },
 "nbformat": 4,
 "nbformat_minor": 2
}
