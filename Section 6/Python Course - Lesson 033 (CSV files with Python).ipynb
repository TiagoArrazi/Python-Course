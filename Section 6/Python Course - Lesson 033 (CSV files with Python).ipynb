{
 "cells": [
  {
   "cell_type": "code",
   "execution_count": 20,
   "metadata": {},
   "outputs": [
    {
     "name": "stdout",
     "output_type": "stream",
     "text": [
      "Rolf is 25 studying Computer Science at Mit\n",
      "Jose is 90 studying Computing at Oxford\n",
      "Anna is 30 studying Physics at Cambridge\n",
      "Tiago is 20 studying Computer Science at Fei\n"
     ]
    }
   ],
   "source": [
    "csv_file = open('Lesson033_csv_data.txt', 'r')\n",
    "lines = csv_file.readlines()\n",
    "csv_file.close()\n",
    "\n",
    "lines = [line.strip() for line in lines[1:]]\n",
    "\n",
    "for line in lines:\n",
    "    person_data = line.split(',')\n",
    "    name = person_data[0].title()\n",
    "    age = person_data[1]\n",
    "    university = person_data[2].capitalize()\n",
    "    degree = person_data[3].title()\n",
    "    \n",
    "    print(f'{name} is {age} studying {degree} at {university}')"
   ]
  }
 ],
 "metadata": {
  "kernelspec": {
   "display_name": "Python 3",
   "language": "python",
   "name": "python3"
  },
  "language_info": {
   "codemirror_mode": {
    "name": "ipython",
    "version": 3
   },
   "file_extension": ".py",
   "mimetype": "text/x-python",
   "name": "python",
   "nbconvert_exporter": "python",
   "pygments_lexer": "ipython3",
   "version": "3.6.7"
  }
 },
 "nbformat": 4,
 "nbformat_minor": 2
}
