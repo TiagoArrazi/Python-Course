{
 "cells": [
  {
   "cell_type": "code",
   "execution_count": null,
   "metadata": {},
   "outputs": [],
   "source": [
    "#Ask the user for a list of 3 friends\n",
    "#For each friend, we'll tell the user whether they are nearby\n",
    "#For each nearby friends, we'll save their name to 'nearby_friends.txt'"
   ]
  },
  {
   "cell_type": "code",
   "execution_count": null,
   "metadata": {},
   "outputs": [],
   "source": [
    "friends = input(\"Enter your friends' name: \")\n",
    "set_friends = set(friends.split())\n",
    "\n",
    "nearby_people_file = open('Lesson032_people.txt', 'r')\n",
    "nearby_people = set()\n",
    "for line in nearby_people_file:\n",
    "    line = line.rstrip('\\n')\n",
    "    nearby_people.add(line)\n",
    "\n",
    "nearby_people_file.close()\n",
    "\n",
    "nearby_friends_file = open('Lesson032_nearby_friends.txt', 'w+')\n",
    "nearby_friends = list(set_friends & nearby_people)\n",
    "\n",
    "for friend in nearby_friends:\n",
    "    print(f'{friend} is nearby')\n",
    "    nearby_friends_file.write(f'{friend}\\n')\n",
    "\n",
    "nearby_friends_file.close()"
   ]
  }
 ],
 "metadata": {
  "kernelspec": {
   "display_name": "Python 3",
   "language": "python",
   "name": "python3"
  },
  "language_info": {
   "codemirror_mode": {
    "name": "ipython",
    "version": 3
   },
   "file_extension": ".py",
   "mimetype": "text/x-python",
   "name": "python",
   "nbconvert_exporter": "python",
   "pygments_lexer": "ipython3",
   "version": "3.6.7"
  }
 },
 "nbformat": 4,
 "nbformat_minor": 2
}
