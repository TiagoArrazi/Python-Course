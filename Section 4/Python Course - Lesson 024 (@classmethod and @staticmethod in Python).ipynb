{
 "cells": [
  {
   "cell_type": "code",
   "execution_count": 4,
   "metadata": {},
   "outputs": [
    {
     "name": "stdout",
     "output_type": "stream",
     "text": [
      "Foo\n"
     ]
    }
   ],
   "source": [
    "class Foo:\n",
    "    @classmethod\n",
    "    def hi(cls):\n",
    "        print(cls.__name__)\n",
    "\n",
    "my_object = Foo()\n",
    "my_object.hi()"
   ]
  },
  {
   "cell_type": "code",
   "execution_count": 5,
   "metadata": {},
   "outputs": [
    {
     "name": "stdout",
     "output_type": "stream",
     "text": [
      "Hello, I don't take parameters\n"
     ]
    }
   ],
   "source": [
    "class Bar:\n",
    "    @staticmethod\n",
    "    def hi():\n",
    "        print(\"Hello, I don't take parameters\")\n",
    "        \n",
    "another_object = Bar()\n",
    "another_object.hi()"
   ]
  },
  {
   "cell_type": "code",
   "execution_count": null,
   "metadata": {},
   "outputs": [],
   "source": [
    "#More @classmethod and @staticmethod examples"
   ]
  },
  {
   "cell_type": "code",
   "execution_count": 26,
   "metadata": {},
   "outputs": [
    {
     "name": "stdout",
     "output_type": "stream",
     "text": [
      "<FixedFloat 20.36>\n",
      "<FixedFloat 26.76>\n"
     ]
    }
   ],
   "source": [
    "class FixedFloat:\n",
    "    def __init__(self, amount):\n",
    "        self.amount = amount\n",
    "        \n",
    "    def __repr__(self):\n",
    "        return f'<FixedFloat {self.amount:.2f}>'\n",
    "    \n",
    "    @staticmethod\n",
    "    def from_sum(value_1, value_2):\n",
    "        return FixedFloat(value_1 + value_2)\n",
    "    \n",
    "new_number = FixedFloat.from_sum(19.575, 0.789)\n",
    "print(new_number)\n",
    "\n",
    "class Euro(FixedFloat):\n",
    "    def __init__(self, amount):\n",
    "        super().__init__(amount)\n",
    "        self.symbol = '€'\n",
    "        \n",
    "    def __repr__(self):\n",
    "        return f'<Euro {self.symbol}{self.amount:.2f}>'\n",
    "    \n",
    "money = Euro.from_sum(16.758, 9.999)\n",
    "print(money)"
   ]
  },
  {
   "cell_type": "code",
   "execution_count": 20,
   "metadata": {},
   "outputs": [
    {
     "name": "stdout",
     "output_type": "stream",
     "text": [
      "<FixedFloat 20.36>\n",
      "<Euro €26.76>\n"
     ]
    }
   ],
   "source": [
    "class FixedFloat:\n",
    "    def __init__(self, amount):\n",
    "        self.amount = amount\n",
    "        \n",
    "    def __repr__(self):\n",
    "        return f'<FixedFloat {self.amount:.2f}>'\n",
    "    \n",
    "    @classmethod\n",
    "    def from_sum(cls, value_1, value_2):\n",
    "        return cls(value_1 + value_2)\n",
    "    \n",
    "new_number = FixedFloat.from_sum(19.575, 0.789)\n",
    "print(new_number)\n",
    "\n",
    "class Euro(FixedFloat):\n",
    "    def __init__(self, amount):\n",
    "        super().__init__(amount)\n",
    "        self.symbol = '€'\n",
    "        \n",
    "    def __repr__(self):\n",
    "        return f'<Euro {self.symbol}{self.amount:.2f}>'\n",
    "    \n",
    "money = Euro.from_sum(16.758, 9.999)\n",
    "print(money)"
   ]
  }
 ],
 "metadata": {
  "kernelspec": {
   "display_name": "Python 3",
   "language": "python",
   "name": "python3"
  },
  "language_info": {
   "codemirror_mode": {
    "name": "ipython",
    "version": 3
   },
   "file_extension": ".py",
   "mimetype": "text/x-python",
   "name": "python",
   "nbconvert_exporter": "python",
   "pygments_lexer": "ipython3",
   "version": "3.6.7"
  }
 },
 "nbformat": 4,
 "nbformat_minor": 2
}
