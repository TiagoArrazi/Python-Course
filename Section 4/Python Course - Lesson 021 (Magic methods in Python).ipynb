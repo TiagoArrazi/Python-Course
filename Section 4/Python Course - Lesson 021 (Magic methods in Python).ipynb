{
 "cells": [
  {
   "cell_type": "code",
   "execution_count": 9,
   "metadata": {},
   "outputs": [
    {
     "name": "stdout",
     "output_type": "stream",
     "text": [
      "2\n",
      "Fiesta\n",
      "Focus\n",
      "Garage with 2 cars\n"
     ]
    }
   ],
   "source": [
    "class Garage():\n",
    "    def __init__(self):\n",
    "        self.cars = []\n",
    "    \n",
    "    def __len__(self):\n",
    "        return len(self.cars)\n",
    "    \n",
    "    def __getitem__(self, index):\n",
    "        return self.cars[index]\n",
    "    \n",
    "    def __repr__(self):\n",
    "        return f'<Garage {self.cars}>'\n",
    "    \n",
    "    def __str__(self):\n",
    "        return f'Garage with {len(self)} cars'\n",
    "    \n",
    "ford = Garage()\n",
    "\n",
    "ford.cars.append('Fiesta')\n",
    "ford.cars.append('Focus')\n",
    "\n",
    "print(len(ford)) #Garage.__len__(ford)\n",
    "\n",
    "for car in ford: \n",
    "    print(car) #Garage.__getitem__(ford, car)\n",
    "\n",
    "print(ford) #Garage.__str__(ford)"
   ]
  }
 ],
 "metadata": {
  "kernelspec": {
   "display_name": "Python 3",
   "language": "python",
   "name": "python3"
  },
  "language_info": {
   "codemirror_mode": {
    "name": "ipython",
    "version": 3
   },
   "file_extension": ".py",
   "mimetype": "text/x-python",
   "name": "python",
   "nbconvert_exporter": "python",
   "pygments_lexer": "ipython3",
   "version": "3.6.7"
  }
 },
 "nbformat": 4,
 "nbformat_minor": 2
}
