{
 "cells": [
  {
   "cell_type": "code",
   "execution_count": 5,
   "metadata": {},
   "outputs": [
    {
     "name": "stdout",
     "output_type": "stream",
     "text": [
      "The Matrix was made in 1994\n"
     ]
    }
   ],
   "source": [
    "class Movie():\n",
    "   def __init__(self, name, year):\n",
    "        self.name = name #self.name(class property) = #name(variable)\n",
    "        self.year = year #self.year(class property) = #year(variable)\n",
    "\n",
    "matrix = Movie('The Matrix', 1994)\n",
    "print(f'{matrix.name} was made in {matrix.year}')"
   ]
  }
 ],
 "metadata": {
  "kernelspec": {
   "display_name": "Python 3",
   "language": "python",
   "name": "python3"
  },
  "language_info": {
   "codemirror_mode": {
    "name": "ipython",
    "version": 3
   },
   "file_extension": ".py",
   "mimetype": "text/x-python",
   "name": "python",
   "nbconvert_exporter": "python",
   "pygments_lexer": "ipython3",
   "version": "3.6.7"
  }
 },
 "nbformat": 4,
 "nbformat_minor": 2
}
