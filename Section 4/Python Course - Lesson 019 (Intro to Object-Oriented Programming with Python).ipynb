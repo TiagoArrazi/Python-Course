{
 "cells": [
  {
   "cell_type": "code",
   "execution_count": 11,
   "metadata": {},
   "outputs": [
    {
     "name": "stdout",
     "output_type": "stream",
     "text": [
      "86.75\n",
      "87.25\n"
     ]
    }
   ],
   "source": [
    "#Just a little exercise\n",
    "rolf_smith = {\n",
    "    'name':'Rolf Smith',\n",
    "    'grades':[70, 88, 90, 99]\n",
    "}\n",
    "\n",
    "jose_salvatierra = {\n",
    "    'name':'Jose Salvatierra',\n",
    "    'grades':[89, 84, 98, 78]\n",
    "}\n",
    "\n",
    "average = lambda student : sum(student['grades'])/len(student['grades'])\n",
    "\n",
    "print(average(rolf_smith))\n",
    "print(average(jose_salvatierra))"
   ]
  },
  {
   "cell_type": "code",
   "execution_count": 1,
   "metadata": {},
   "outputs": [
    {
     "name": "stdout",
     "output_type": "stream",
     "text": [
      "<class '__main__.Student'>\n",
      "<class '__main__.Student'>\n",
      "\n",
      "\n",
      "Rolf Smith's average grade is 86.75\n",
      "Jose Salvatierra's average grade is 87.25\n"
     ]
    }
   ],
   "source": [
    "class Student:\n",
    "    \n",
    "    def __init__(self, new_name, new_grades):\n",
    "        self.name = new_name\n",
    "        self.grades = new_grades\n",
    "    \n",
    "    average = lambda self: sum(self.grades) / len(self.grades)\n",
    "    \n",
    "student_1 = Student('Rolf Smith', [70, 88, 90, 99])\n",
    "student_2 = Student('Jose Salvatierra', [89, 84, 98, 78])\n",
    "\n",
    "print(student_1.__class__)\n",
    "print(student_2.__class__)\n",
    "\n",
    "print('\\n')\n",
    "\n",
    "print(f\"{student_1.name}'s average grade is {student_1.average()}\")\n",
    "print(f\"{student_2.name}'s average grade is {student_2.average()}\")"
   ]
  }
 ],
 "metadata": {
  "kernelspec": {
   "display_name": "Python 3",
   "language": "python",
   "name": "python3"
  },
  "language_info": {
   "codemirror_mode": {
    "name": "ipython",
    "version": 3
   },
   "file_extension": ".py",
   "mimetype": "text/x-python",
   "name": "python",
   "nbconvert_exporter": "python",
   "pygments_lexer": "ipython3",
   "version": "3.6.7"
  }
 },
 "nbformat": 4,
 "nbformat_minor": 2
}
