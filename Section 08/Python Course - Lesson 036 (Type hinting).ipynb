{
 "cells": [
  {
   "cell_type": "code",
   "execution_count": null,
   "metadata": {},
   "outputs": [],
   "source": [
    "#Type hinting tells what the function is supposed to return, only useful in IDEs like PyCharm"
   ]
  },
  {
   "cell_type": "code",
   "execution_count": 24,
   "metadata": {},
   "outputs": [],
   "source": [
    "def add(x, y) -> None: #PyCharm may now identify it is supposed to return a NoneType \n",
    "    print(x + y)       #Therefore it will warn the developer in case he tries to assign it to a variable\n",
    "                       #Python ignores it, it is used for developing purposes only\n",
    "        \n",
    "def subtract(x: int, y: int) -> int: #PyCharm may now identify that it takes to integers as parameters\n",
    "    return(x - y)                    #and it returns an integer\n",
    "    "
   ]
  },
  {
   "cell_type": "code",
   "execution_count": 29,
   "metadata": {},
   "outputs": [
    {
     "name": "stdout",
     "output_type": "stream",
     "text": [
      "[2, 4, 6, 8]\n"
     ]
    }
   ],
   "source": [
    "from typing import List #to use type hinting one must import from 'typing' library\n",
    "\n",
    "def return_doubled_list(regular_list)-> List[int]: #PyCharm may now identify it is supposed to return a list of integers\n",
    "    doubled_list = [num * 2 for num in regular_list]\n",
    "    return doubled_list\n",
    "\n",
    "print(return_doubled_list([1,2,3,4]))"
   ]
  }
 ],
 "metadata": {
  "kernelspec": {
   "display_name": "Python 3",
   "language": "python",
   "name": "python3"
  },
  "language_info": {
   "codemirror_mode": {
    "name": "ipython",
    "version": 3
   },
   "file_extension": ".py",
   "mimetype": "text/x-python",
   "name": "python",
   "nbconvert_exporter": "python",
   "pygments_lexer": "ipython3",
   "version": "3.6.7"
  }
 },
 "nbformat": 4,
 "nbformat_minor": 2
}
