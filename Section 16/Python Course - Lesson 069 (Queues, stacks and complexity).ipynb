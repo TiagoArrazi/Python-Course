{
 "cells": [
  {
   "cell_type": "code",
   "execution_count": 10,
   "metadata": {},
   "outputs": [
    {
     "name": "stdout",
     "output_type": "stream",
     "text": [
      "5\n5 <- 7\n5 <- 7 <- 11\n7 <- 11\n11\n"
     ]
    }
   ],
   "source": [
    "class Queue:\n",
    "    def __init__(self):\n",
    "        self.items = []\n",
    "        \n",
    "    def __repr__(self):\n",
    "        \n",
    "        queue = []\n",
    "        for item in self.items:\n",
    "            queue.append(str(item))\n",
    "        \n",
    "        return ' <- '.join(queue)\n",
    "        \n",
    "    def push(self, e):\n",
    "        self.items.append(e)\n",
    "        \n",
    "    def pop(self):\n",
    "        head = self.items[0]\n",
    "        self.items = self.items[1:]\n",
    "        return f'{head} popped'\n",
    "\n",
    "\n",
    "q = Queue()\n",
    "\n",
    "q.push(5)  # [5]\n",
    "print(q)\n",
    "\n",
    "q.push(7)  # [5, 7]\n",
    "print(q)\n",
    "\n",
    "q.push(11)  # [5, 7, 11]\n",
    "print(q)\n",
    "\n",
    "q.pop()  # returns 5, left is [7, 11]\n",
    "print(q)\n",
    "\n",
    "q.pop()  # returns 7, left is [11]\n",
    "print(q)\n"
   ]
  },
  {
   "cell_type": "code",
   "execution_count": 6,
   "metadata": {},
   "outputs": [
    {
     "name": "stdout",
     "output_type": "stream",
     "text": [
      "5\n5 -> 7\n5 -> 7 -> 11\n5 -> 7\n5\n"
     ]
    }
   ],
   "source": [
    "class Stack:\n",
    "    def __init__(self):\n",
    "        self.items = []\n",
    "        \n",
    "    def __repr__(self):\n",
    "        \n",
    "        stack = []\n",
    "        for item in self.items:\n",
    "            stack.append(str(item))\n",
    "        \n",
    "        return ' -> '.join(stack)\n",
    "        \n",
    "    def push(self, e):\n",
    "        self.items.append(e)\n",
    "        \n",
    "    def pop(self):\n",
    "        head = self.items[-1]\n",
    "        self.items = self.items[:-1]\n",
    "        return f'{head} popped'\n",
    "        \n",
    "        \n",
    "s = Stack()\n",
    "\n",
    "s.push(5)\n",
    "print(s)\n",
    "\n",
    "s.push(7)\n",
    "print(s)\n",
    "\n",
    "s.push(11)\n",
    "print(s)\n",
    "\n",
    "s.pop()\n",
    "print(s)\n",
    "\n",
    "s.pop()\n",
    "print(s)\n"
   ]
  },
  {
   "cell_type": "code",
   "execution_count": null,
   "metadata": {},
   "outputs": [],
   "source": []
  }
 ],
 "metadata": {},
 "nbformat": 4,
 "nbformat_minor": 0
}
