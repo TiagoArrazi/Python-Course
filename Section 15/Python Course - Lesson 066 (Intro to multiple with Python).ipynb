{
 "cells": [
  {
   "cell_type": "code",
   "execution_count": 2,
   "metadata": {},
   "outputs": [],
   "source": [
    "class User:\n",
    "    def __init__(self, username, password):\n",
    "        self.username = username\n",
    "        self.password = password\n",
    "        \n",
    "    def __repr__(self):\n",
    "        return f'<User {self.username}>'\n",
    "    \n",
    "    def login(self):\n",
    "        return 'Logged in'\n",
    "    \n",
    "\n",
    "class Admin(User):\n",
    "    def __init__(self, username, password, access):\n",
    "        super(Admin, self).__init__(username, password)\n",
    "        self.access = access\n",
    "        \n",
    "    def __repr__(self):\n",
    "        return f'<Admin {self.username}, access {self.access}>'\n",
    "    \n",
    "    def to_dict(self):\n",
    "        return{\n",
    "            'username': self.username,\n",
    "            'password': self.password,\n",
    "            'access': self.access\n",
    "        }\n",
    "    \n",
    "    def save(self):\n",
    "        Database.insert(self.to_dict())"
   ]
  },
  {
   "cell_type": "code",
   "execution_count": 3,
   "metadata": {},
   "outputs": [],
   "source": [
    "class Database:\n",
    "    content = {'users': []}\n",
    "    \n",
    "    @classmethod\n",
    "    def insert(cls, data):\n",
    "        cls.content['users'].append(data)\n",
    "        \n",
    "    @classmethod\n",
    "    def remove(cls, finder):\n",
    "        cls.content['users'] = [user for user in cls.content['users'] if not finder(user)]\n",
    "        \n",
    "    @classmethod\n",
    "    def find(cls, finder):\n",
    "        return [user for user in cls.content['users'] if finder(user)]\n",
    "    \n",
    "    "
   ]
  },
  {
   "cell_type": "code",
   "execution_count": null,
   "metadata": {},
   "outputs": [],
   "source": [
    "class Store:\n",
    "    def to_dict(self):\n",
    "        pass\n",
    "    \n",
    "    def save(self):\n",
    "        Database.insert(self.to_dict())"
   ]
  },
  {
   "cell_type": "code",
   "execution_count": 4,
   "metadata": {},
   "outputs": [
    {
     "name": "stdout",
     "output_type": "stream",
     "text": [
      "[{'username': 'tiago', 'password': '1234', 'access': 3}]\n"
     ]
    }
   ],
   "source": [
    "a = Admin('tiago', '1234', 3)\n",
    "a.save()\n",
    "print(Database.find(lambda x: x['username'] == 'tiago'))"
   ]
  }
 ],
 "metadata": {
  "kernelspec": {
   "display_name": "Python 3",
   "language": "python",
   "name": "python3"
  },
  "language_info": {
   "codemirror_mode": {
    "name": "ipython",
    "version": 3
   },
   "file_extension": ".py",
   "mimetype": "text/x-python",
   "name": "python",
   "nbconvert_exporter": "python",
   "pygments_lexer": "ipython3",
   "version": "3.6.7"
  }
 },
 "nbformat": 4,
 "nbformat_minor": 2
}
