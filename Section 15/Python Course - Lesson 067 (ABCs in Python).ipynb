{
 "cells": [
  {
   "cell_type": "code",
   "execution_count": 1,
   "metadata": {},
   "outputs": [],
   "source": [
    "from abc import ABCMeta, abstractmethod\n",
    "\n",
    "\n",
    "class Animal(metaclass=ABCMeta):\n",
    "    @staticmethod\n",
    "    def walk():\n",
    "        print('Walking...')\n",
    "        \n",
    "    @abstractmethod\n",
    "    def num_legs(self):  # it may be overriden by child classes\n",
    "        pass\n",
    "    \n",
    "    \n",
    "class Dog(Animal):\n",
    "    def __init__(self, name):\n",
    "        self.name = name\n",
    "        \n",
    "    def num_legs(self):\n",
    "        return 4\n",
    "    \n",
    "    \n",
    "class Monkey(Animal):\n",
    "    def __init__(self, name):\n",
    "        self.name = name\n",
    "        \n",
    "    def num_legs(self):\n",
    "        return 2\n"
   ]
  },
  {
   "cell_type": "code",
   "execution_count": 2,
   "metadata": {},
   "outputs": [
    {
     "name": "stdout",
     "output_type": "stream",
     "text": [
      "True\n4\nTrue\n2\n"
     ]
    }
   ],
   "source": [
    "animals = [Dog('Rolf'), Monkey('Bob')]\n",
    "for a in animals:\n",
    "    print(isinstance(a, Animal))\n",
    "    print(a.num_legs())\n"
   ]
  },
  {
   "cell_type": "code",
   "execution_count": null,
   "metadata": {},
   "outputs": [],
   "source": []
  }
 ],
 "metadata": {},
 "nbformat": 4,
 "nbformat_minor": 0
}
