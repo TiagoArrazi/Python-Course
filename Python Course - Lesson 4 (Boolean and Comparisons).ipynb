{
 "cells": [
  {
   "cell_type": "code",
   "execution_count": 1,
   "metadata": {},
   "outputs": [
    {
     "name": "stdout",
     "output_type": "stream",
     "text": [
      "True\n",
      "False\n",
      "True\n"
     ]
    }
   ],
   "source": [
    "truthy = True\n",
    "falsy = False\n",
    "\n",
    "age = 20\n",
    "is_over_age = age >= 18\n",
    "is_under_age = age < 18\n",
    "is_twenty = age == 20\n",
    "\n",
    "print(is_over_age)\n",
    "print(is_under_age)\n",
    "print(is_twenty)"
   ]
  },
  {
   "cell_type": "code",
   "execution_count": 3,
   "metadata": {},
   "outputs": [
    {
     "name": "stdout",
     "output_type": "stream",
     "text": [
      "Enter a number: 5\n",
      "True\n",
      "False\n"
     ]
    }
   ],
   "source": [
    "my_number = 5\n",
    "user_number = int(input(\"Enter a number: \"))\n",
    "\n",
    "print(user_number == my_number)\n",
    "print(user_number != my_number)"
   ]
  },
  {
   "cell_type": "code",
   "execution_count": 4,
   "metadata": {},
   "outputs": [
    {
     "name": "stdout",
     "output_type": "stream",
     "text": [
      "True\n",
      "False\n"
     ]
    }
   ],
   "source": [
    "yes = True and True\n",
    "no = True and False\n",
    "print(yes)\n",
    "print(no)"
   ]
  },
  {
   "cell_type": "code",
   "execution_count": 1,
   "metadata": {},
   "outputs": [
    {
     "name": "stdout",
     "output_type": "stream",
     "text": [
      "True\n",
      "True\n",
      "False\n"
     ]
    }
   ],
   "source": [
    "second_one = False or True\n",
    "first_one = True or False\n",
    "neither = False or False\n",
    "\n",
    "print(first_one)\n",
    "print(second_one)\n",
    "print(neither)"
   ]
  },
  {
   "cell_type": "code",
   "execution_count": null,
   "metadata": {},
   "outputs": [],
   "source": []
  }
 ],
 "metadata": {
  "kernelspec": {
   "display_name": "Python 3",
   "language": "python",
   "name": "python3"
  },
  "language_info": {
   "codemirror_mode": {
    "name": "ipython",
    "version": 3
   },
   "file_extension": ".py",
   "mimetype": "text/x-python",
   "name": "python",
   "nbconvert_exporter": "python",
   "pygments_lexer": "ipython3",
   "version": "3.6.7"
  }
 },
 "nbformat": 4,
 "nbformat_minor": 2
}
