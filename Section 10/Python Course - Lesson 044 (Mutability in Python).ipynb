{
 "cells": [
  {
   "cell_type": "code",
   "execution_count": 28,
   "metadata": {},
   "outputs": [
    {
     "name": "stdout",
     "output_type": "stream",
     "text": [
      "10910432\n",
      "10910464\n",
      "10910496\n",
      "10910528\n",
      "10910560\n"
     ]
    }
   ],
   "source": [
    "#Integers are not mutable\n",
    "i = 2\n",
    "print(id(i))\n",
    "i = 3\n",
    "print(id(i))\n",
    "i = 4\n",
    "print(id(i))\n",
    "\n",
    "i = i + 1 #i.__add__(self, 1) --> creates an Integer object everytime\n",
    "print(id(i))\n",
    "\n",
    "i += 1 #i.__iadd__(self, 1) --> creates an Integer object everytime\n",
    "print(id(i))"
   ]
  },
  {
   "cell_type": "code",
   "execution_count": 20,
   "metadata": {},
   "outputs": [
    {
     "name": "stdout",
     "output_type": "stream",
     "text": [
      "140099697890216\n",
      "140099697890384\n",
      "140099697890288\n"
     ]
    }
   ],
   "source": [
    "#Floats are not mutable\n",
    "f = 1.5\n",
    "print(id(f))\n",
    "f = 2.5\n",
    "print(id(f))\n",
    "f = 3.5\n",
    "print(id(f))"
   ]
  },
  {
   "cell_type": "code",
   "execution_count": 21,
   "metadata": {},
   "outputs": [
    {
     "name": "stdout",
     "output_type": "stream",
     "text": [
      "140099877478160\n",
      "140099697741552\n",
      "140099688906960\n"
     ]
    }
   ],
   "source": [
    "#String are not mutable\n",
    "s = 'string'\n",
    "print(id(s))\n",
    "s = 'another string'\n",
    "print(id(s))\n",
    "s = 'a totally different string'\n",
    "print(id(s))"
   ]
  },
  {
   "cell_type": "code",
   "execution_count": 25,
   "metadata": {},
   "outputs": [
    {
     "name": "stdout",
     "output_type": "stream",
     "text": [
      "140099697608456\n",
      "140099688891160\n"
     ]
    }
   ],
   "source": [
    "#Tuples are not mutable\n",
    "t = ('a', 'b', 'c')\n",
    "print(id(t))\n",
    "t = ('d', 'e', 'f')\n",
    "print(id(t))"
   ]
  },
  {
   "cell_type": "code",
   "execution_count": 26,
   "metadata": {},
   "outputs": [
    {
     "name": "stdout",
     "output_type": "stream",
     "text": [
      "140099697616136\n",
      "140099697616136\n"
     ]
    }
   ],
   "source": [
    "#Lists are mutable\n",
    "l = [1, 2, 3, 4]\n",
    "print(id(l))\n",
    "l.append(5)\n",
    "print(id(l))"
   ]
  },
  {
   "cell_type": "code",
   "execution_count": 9,
   "metadata": {},
   "outputs": [
    {
     "name": "stdout",
     "output_type": "stream",
     "text": [
      "140099688843952\n",
      "140099697646400\n",
      "140099697646400\n"
     ]
    }
   ],
   "source": [
    "#Dictionaries are mutable\n",
    "d = { \n",
    "    'k1': 'v1',\n",
    "    'k2': 'v2',\n",
    "    'k3': 'v3'\n",
    "}\n",
    "\n",
    "print(id(d))\n",
    "\n",
    "d = { \n",
    "    'k1': 'v1',\n",
    "    'k2': 'v2',\n",
    "    'k3': 'v3'\n",
    "}\n",
    "\n",
    "print(id(d))\n",
    "\n",
    "d['k1'] = 0 #d.__setitem__(self, 'k1')\n",
    "print(id(d))"
   ]
  }
 ],
 "metadata": {
  "kernelspec": {
   "display_name": "Python 3",
   "language": "python",
   "name": "python3"
  },
  "language_info": {
   "codemirror_mode": {
    "name": "ipython",
    "version": 3
   },
   "file_extension": ".py",
   "mimetype": "text/x-python",
   "name": "python",
   "nbconvert_exporter": "python",
   "pygments_lexer": "ipython3",
   "version": "3.6.7"
  }
 },
 "nbformat": 4,
 "nbformat_minor": 2
}
