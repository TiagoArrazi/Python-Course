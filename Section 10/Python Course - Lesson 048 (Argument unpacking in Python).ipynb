{
 "cells": [
  {
   "cell_type": "code",
   "execution_count": null,
   "metadata": {},
   "outputs": [],
   "source": [
    "accounts = {\n",
    "    'checking': 1958.00,\n",
    "    'savings': 3695.50\n",
    "}\n",
    "\n",
    "def add_balance(amount: float, name: str = 'checking') -> float:\n",
    "    \"\"\"Function to update the balance of an account and return the new balance\"\"\"\n",
    "    accounts[name] += amount\n",
    "    return accounts[name]\n",
    "\n",
    "transactions = [\n",
    "    (-180.67, 'checking'),\n",
    "    (-220.00, 'checking'),\n",
    "    (220.00, 'savings'),\n",
    "    (-15.70, 'checking'),\n",
    "    (-23.90, 'checking'),\n",
    "    (-13.00, 'checking'),\n",
    "    (1579.50, 'checking'),\n",
    "    (-600.50, 'checking'),\n",
    "    (600.50, 'savings')\n",
    "]\n",
    "\n",
    "for t in transactions:\n",
    "    add_balance(*t) #argument unpacking"
   ]
  },
  {
   "cell_type": "code",
   "execution_count": null,
   "metadata": {},
   "outputs": [],
   "source": [
    "class User:\n",
    "    def __init__(self, username, password):\n",
    "        self.username = username\n",
    "        self.password = password\n",
    "    \n",
    "users_d = [\n",
    "    {'username': 'rolf', 'password': '123'},\n",
    "    {'username': 'iamawesome', 'password': 'utoo'}\n",
    "]\n",
    "\n",
    "users_from_dict = [User(**data) for data in users_d]"
   ]
  },
  {
   "cell_type": "code",
   "execution_count": null,
   "metadata": {},
   "outputs": [],
   "source": [
    "users_t = [\n",
    "    ('Rolf', '12345'),\n",
    "    ('Jose', '67890')\n",
    "]\n",
    "\n",
    "users_from_tuple = [User(*data) for data in users_t]"
   ]
  }
 ],
 "metadata": {
  "kernelspec": {
   "display_name": "Python 3",
   "language": "python",
   "name": "python3"
  },
  "language_info": {
   "codemirror_mode": {
    "name": "ipython",
    "version": 3
   },
   "file_extension": ".py",
   "mimetype": "text/x-python",
   "name": "python",
   "nbconvert_exporter": "python",
   "pygments_lexer": "ipython3",
   "version": "3.6.7"
  }
 },
 "nbformat": 4,
 "nbformat_minor": 2
}
