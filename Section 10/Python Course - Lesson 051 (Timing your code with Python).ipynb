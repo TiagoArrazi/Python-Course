{
 "cells": [
  {
   "cell_type": "code",
   "execution_count": 15,
   "metadata": {},
   "outputs": [
    {
     "name": "stdout",
     "output_type": "stream",
     "text": [
      "20.99541687965393\n"
     ]
    }
   ],
   "source": [
    "import time\n",
    "\n",
    "def powers(limit):\n",
    "    return [x ** 2 for x in range(limit)]\n",
    "\n",
    "def measure_runtime(func): #higher order function\n",
    "    start = time.time()\n",
    "    func()\n",
    "    end = time.time()\n",
    "    \n",
    "    return end - start\n",
    "\n",
    "print(measure_runtime(lambda: powers(90000000)))"
   ]
  }
 ],
 "metadata": {
  "kernelspec": {
   "display_name": "Python 3",
   "language": "python",
   "name": "python3"
  },
  "language_info": {
   "codemirror_mode": {
    "name": "ipython",
    "version": 3
   },
   "file_extension": ".py",
   "mimetype": "text/x-python",
   "name": "python",
   "nbconvert_exporter": "python",
   "pygments_lexer": "ipython3",
   "version": "3.6.7"
  }
 },
 "nbformat": 4,
 "nbformat_minor": 2
}
