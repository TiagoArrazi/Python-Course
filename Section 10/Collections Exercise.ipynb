{
 "cells": [
  {
   "cell_type": "code",
   "execution_count": 3,
   "metadata": {},
   "outputs": [
    {
     "data": {
      "text/plain": [
       "defaultdict(<function __main__.task1.<locals>.<lambda>()>,\n",
       "            {'Alan': 'Manchester'})"
      ]
     },
     "execution_count": 3,
     "metadata": {},
     "output_type": "execute_result"
    }
   ],
   "source": [
    "from collections import defaultdict, OrderedDict, namedtuple, deque\n",
    "\n",
    "\n",
    "def task1() -> defaultdict:\n",
    "    \n",
    "    # you code starts here:\n",
    "    alma_maters = defaultdict(lambda: 'Unknown')\n",
    "    alma_maters['Alan'] = 'Manchester'\n",
    "    \n",
    "    return alma_maters\n",
    "\n",
    "\n",
    "def task2(arg_od: OrderedDict):\n",
    "    \"\"\"\n",
    "    - takes in an OrderedDict `arg_od`\n",
    "    - Remove the first and last entry in `arg_od`.\n",
    "    - Move the entry with key name `Bob` to the end of `arg_od`.\n",
    "    - Move the entry with key name `Dan` to the start of `arg_od`.\n",
    "    - You may assume that `arg_od` would always contain the keys `Bob` and `Dan`,\n",
    "        and they won't be the first or last entry initially.\n",
    "    \"\"\"\n",
    "    # you code starts here:\n",
    "    arg_od.popitem()\n",
    "    arg_od.popitem(last=False)\n",
    "    \n",
    "    arg_od.move_to_end('Bob')\n",
    "    arg_od.move_to_end('Dan', last=False)\n",
    "    \n",
    "    return arg_od\n",
    "\n",
    "def task3(name: str, club: str) -> namedtuple:\n",
    "    \"\"\"\n",
    "    - create a `namedtuple` with type `Player`, and it will have two fields, `name` and `club`.\n",
    "    - create a `Player` `namedtuple` instance that has the `name` and `club` field set by the given arguments.\n",
    "    - return the `Player` `namedtuple` instance you created.\n",
    "    \"\"\"\n",
    "    # you code starts here:\n",
    "    Player = namedtuple('Player',['name', 'club'])\n",
    "    player = Player(name, club)\n",
    "    \n",
    "    return player\n",
    "\n",
    "\n",
    "def task4(arg_deque: deque):\n",
    "    \"\"\"\n",
    "    - Manipulate the `arg_deque` in any order you preferred to achieve the following effect:\n",
    "        -- remove last element in `deque`\n",
    "        -- move the first (left most) element to the end (right most)\n",
    "        -- add an element `Zack`, a string, to the start (left)\n",
    "    \"\"\"\n",
    "    # you code starts here:\n",
    "    arg_deque.pop()\n",
    "    \n",
    "    arg_deque.append(arg_deque[0])\n",
    "    arg_deque.popleft()\n",
    "    \n",
    "    arg_deque.appendleft('Zack')\n",
    "    \n",
    "    return arg_deque"
   ]
  }
 ],
 "metadata": {
  "kernelspec": {
   "display_name": "Python 3",
   "language": "python",
   "name": "python3"
  },
  "language_info": {
   "codemirror_mode": {
    "name": "ipython",
    "version": 3
   },
   "file_extension": ".py",
   "mimetype": "text/x-python",
   "name": "python",
   "nbconvert_exporter": "python",
   "pygments_lexer": "ipython3",
   "version": "3.6.7"
  }
 },
 "nbformat": 4,
 "nbformat_minor": 2
}
