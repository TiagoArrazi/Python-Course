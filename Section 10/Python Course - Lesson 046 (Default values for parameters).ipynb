{
 "cells": [
  {
   "cell_type": "code",
   "execution_count": 2,
   "metadata": {},
   "outputs": [
    {
     "name": "stdout",
     "output_type": "stream",
     "text": [
      "2458.0\n",
      "3945.5\n"
     ]
    }
   ],
   "source": [
    "accounts = {\n",
    "    'checking': 1958.00,\n",
    "    'savings': 3695.50\n",
    "}\n",
    "\n",
    "def add_balance(amount: float, name: str = 'checking') -> float:\n",
    "    \"\"\"Function to update the balance of an account and return the new balance\"\"\"\n",
    "    accounts[name] += amount\n",
    "    return accounts[name]\n",
    "\n",
    "add_balance(500.00)\n",
    "add_balance(250.00, 'savings')\n",
    "print(accounts['checking'])\n",
    "print(accounts['savings'])"
   ]
  }
 ],
 "metadata": {
  "kernelspec": {
   "display_name": "Python 3",
   "language": "python",
   "name": "python3"
  },
  "language_info": {
   "codemirror_mode": {
    "name": "ipython",
    "version": 3
   },
   "file_extension": ".py",
   "mimetype": "text/x-python",
   "name": "python",
   "nbconvert_exporter": "python",
   "pygments_lexer": "ipython3",
   "version": "3.6.7"
  }
 },
 "nbformat": 4,
 "nbformat_minor": 2
}
