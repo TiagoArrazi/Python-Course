{
 "cells": [
  {
   "cell_type": "code",
   "execution_count": 16,
   "metadata": {},
   "outputs": [
    {
     "name": "stdout",
     "output_type": "stream",
     "text": [
      "2018-12-26 13:39:11.001255+00:00\n",
      "26-12-2018 13:39:11\n",
      "\r\n",
      "2018-12-27 13:39:11.001255+00:00\n",
      "26-12-2018 13:39:11\n"
     ]
    }
   ],
   "source": [
    "from datetime import datetime, timezone, timedelta\n",
    "\n",
    "today = datetime.now(timezone.utc) #aware datetime\n",
    "tomorrow = today + timedelta(days=1)\n",
    "\n",
    "print(today)\n",
    "print(today.strftime('%d-%m-%Y %H:%M:%S')) #string format time \n",
    "print('\\r')\n",
    "\n",
    "print(tomorrow)\n",
    "print(today.strftime('%d-%m-%Y %H:%M:%S'))"
   ]
  },
  {
   "cell_type": "code",
   "execution_count": 19,
   "metadata": {},
   "outputs": [
    {
     "name": "stdout",
     "output_type": "stream",
     "text": [
      "Enter date in YYYY-mm-dd format: 2018-12-26\n",
      "2018-12-26 00:00:00\n"
     ]
    }
   ],
   "source": [
    "user_date = input('Enter date in YYYY-mm-dd format: ')\n",
    "user_date = datetime.strptime(user_date, '%Y-%m-%d')\n",
    "print(user_date)"
   ]
  },
  {
   "cell_type": "code",
   "execution_count": null,
   "metadata": {},
   "outputs": [],
   "source": [
    "# strptime and strftime cheat sheet\n",
    "'''\n",
    "%a\tWeekday, short version\n",
    "%A\tWeekday, full version\n",
    "%w\tWeekday as a number 0-6, Sunday as the first day of the week\n",
    "%d\tDay of month\n",
    "%b\tMonth name, short version\n",
    "%B\tMonth name, full version\n",
    "%m\tMonth as a number\n",
    "%y\tYear, short version\n",
    "%Y\tYear, full version\n",
    "%H\tHour \n",
    "%I\tHour\n",
    "%p\tAM/PM\n",
    "%M\tMinute \n",
    "%S\tSecond \n",
    "%f\tMicrosecond\n",
    "%z\tUTC offset\n",
    "%Z\tTimezone\n",
    "%j\tDay number of year\n",
    "%U\tWeek number of year, Sunday as the first day of week\n",
    "%W\tWeek number of year, Monday as the first day of week\n",
    "%c\tLocal version of date and time\n",
    "%x\tLocal version of date\n",
    "%X\tLocal version of time\n",
    "'''"
   ]
  }
 ],
 "metadata": {
  "kernelspec": {
   "display_name": "Python 3",
   "language": "python",
   "name": "python3"
  },
  "language_info": {
   "codemirror_mode": {
    "name": "ipython",
    "version": 3
   },
   "file_extension": ".py",
   "mimetype": "text/x-python",
   "name": "python",
   "nbconvert_exporter": "python",
   "pygments_lexer": "ipython3",
   "version": "3.6.7"
  }
 },
 "nbformat": 4,
 "nbformat_minor": 2
}
