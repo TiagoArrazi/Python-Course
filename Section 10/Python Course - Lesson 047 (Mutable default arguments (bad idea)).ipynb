{
 "cells": [
  {
   "cell_type": "code",
   "execution_count": 4,
   "metadata": {},
   "outputs": [
    {
     "name": "stdout",
     "output_type": "stream",
     "text": [
      "139737976852744\n",
      "139737976852744\n",
      "{'name': 'checkings', 'main_account_holder': 'Rolf', 'account_holders': ['Rolf', 'Jen']}\n",
      "{'name': 'savings', 'main_account_holder': 'Jen', 'account_holders': ['Rolf', 'Jen']}\n"
     ]
    }
   ],
   "source": [
    "def create_account(name: str, holder: str, account_holders: list = []):\n",
    "    print(id(account_holders))\n",
    "    account_holders.append(holder)\n",
    "    \n",
    "    return {\n",
    "        'name': name,\n",
    "        'main_account_holder': holder,\n",
    "        'account_holders': account_holders\n",
    "    }\n",
    "\n",
    "account_1 = create_account('checkings', 'Rolf')\n",
    "account_2 = create_account('savings', 'Jen')\n",
    "\n",
    "print(account_1)\n",
    "print(account_2)"
   ]
  },
  {
   "cell_type": "code",
   "execution_count": 5,
   "metadata": {},
   "outputs": [
    {
     "name": "stdout",
     "output_type": "stream",
     "text": [
      "139737976818056\n",
      "139737976948552\n",
      "{'name': 'checkings', 'main_account_holder': 'Rolf', 'account_holders': ['Rolf']}\n",
      "{'name': 'savings', 'main_account_holder': 'Jen', 'account_holders': ['Jen']}\n"
     ]
    }
   ],
   "source": [
    "def create_account(name: str, holder: str, account_holders: list = None):\n",
    "    if not account_holders:\n",
    "        account_holders = []\n",
    "        \n",
    "    print(id(account_holders))\n",
    "    account_holders.append(holder)\n",
    "    \n",
    "    return {\n",
    "        'name': name,\n",
    "        'main_account_holder': holder,\n",
    "        'account_holders': account_holders\n",
    "    }\n",
    "\n",
    "account_1 = create_account('checkings', 'Rolf')\n",
    "account_2 = create_account('savings', 'Jen')\n",
    "\n",
    "print(account_1)\n",
    "print(account_2)"
   ]
  }
 ],
 "metadata": {
  "kernelspec": {
   "display_name": "Python 3",
   "language": "python",
   "name": "python3"
  },
  "language_info": {
   "codemirror_mode": {
    "name": "ipython",
    "version": 3
   },
   "file_extension": ".py",
   "mimetype": "text/x-python",
   "name": "python",
   "nbconvert_exporter": "python",
   "pygments_lexer": "ipython3",
   "version": "3.6.7"
  }
 },
 "nbformat": 4,
 "nbformat_minor": 2
}
