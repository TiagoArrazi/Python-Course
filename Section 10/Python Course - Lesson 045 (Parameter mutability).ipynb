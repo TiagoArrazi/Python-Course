{
 "cells": [
  {
   "cell_type": "code",
   "execution_count": 3,
   "metadata": {},
   "outputs": [
    {
     "name": "stdout",
     "output_type": "stream",
     "text": [
      "140106936372392 <-- Dictionary ID\n",
      "10911360 <-- Integer ID\n",
      "\n",
      "140106936372392 <-- Dictionary ID\n",
      "\n",
      "140106936372392 <-- Dictionary ID\n",
      "10910368 <-- Integer ID\n"
     ]
    }
   ],
   "source": [
    "friends_last_seen = {\n",
    "    'Rolf': 31,\n",
    "    'Jen': 1,\n",
    "    'Anne': 7\n",
    "}\n",
    "\n",
    "def see_friend(friends, name):\n",
    "    print(f\"{id(friends)} <-- Dictionary ID\\n\")\n",
    "    friends[name] = 0\n",
    "    \n",
    "print(f\"{id(friends_last_seen)} <-- Dictionary ID\")\n",
    "print(f\"{id(friends_last_seen['Rolf'])} <-- Integer ID\\n\")\n",
    "\n",
    "see_friend(friends_last_seen, 'Rolf')\n",
    "\n",
    "print(f\"{id(friends_last_seen)} <-- Dictionary ID\")\n",
    "print(f\"{id(friends_last_seen['Rolf'])} <-- Integer ID\")"
   ]
  }
 ],
 "metadata": {
  "kernelspec": {
   "display_name": "Python 3",
   "language": "python",
   "name": "python3"
  },
  "language_info": {
   "codemirror_mode": {
    "name": "ipython",
    "version": 3
   },
   "file_extension": ".py",
   "mimetype": "text/x-python",
   "name": "python",
   "nbconvert_exporter": "python",
   "pygments_lexer": "ipython3",
   "version": "3.6.7"
  }
 },
 "nbformat": 4,
 "nbformat_minor": 2
}
