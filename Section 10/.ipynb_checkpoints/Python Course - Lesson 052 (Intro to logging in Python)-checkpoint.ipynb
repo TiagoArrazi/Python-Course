{
 "cells": [
  {
   "cell_type": "code",
   "execution_count": 10,
   "metadata": {},
   "outputs": [
    {
     "name": "stderr",
     "output_type": "stream",
     "text": [
      "2018-12-27 15:18:50,021 WARNING  [<ipython-input-10-b9edf8dedce7>:7] This is a warning message\n",
      "2018-12-27 15:18:50,025 CRITICAL [<ipython-input-10-b9edf8dedce7>:9] A critical error occurred\n"
     ]
    }
   ],
   "source": [
    "import logging\n",
    "\n",
    "logging.basicConfig(format='%(asctime)s %(levelname)-8s [%(filename)s:%(lineno)d] %(message)s', level=logging.DEBUG)\n",
    "logger = logging.getLogger('test_logger')\n",
    "\n",
    "logger.info('This is an info message')\n",
    "logger.warning('This is a warning message')\n",
    "logger.debug('This is a debug message')\n",
    "logger.critical('A critical error occurred')"
   ]
  }
 ],
 "metadata": {
  "kernelspec": {
   "display_name": "Python 3",
   "language": "python",
   "name": "python3"
  },
  "language_info": {
   "codemirror_mode": {
    "name": "ipython",
    "version": 3
   },
   "file_extension": ".py",
   "mimetype": "text/x-python",
   "name": "python",
   "nbconvert_exporter": "python",
   "pygments_lexer": "ipython3",
   "version": "3.6.7"
  }
 },
 "nbformat": 4,
 "nbformat_minor": 2
}
