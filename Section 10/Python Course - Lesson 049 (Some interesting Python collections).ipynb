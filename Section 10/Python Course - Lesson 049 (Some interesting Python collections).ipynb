{
 "cells": [
  {
   "cell_type": "code",
   "execution_count": null,
   "metadata": {},
   "outputs": [],
   "source": [
    "\"\"\"\n",
    "*counter\n",
    "*defaultdict\n",
    "*ordereddict\n",
    "*namedtuple\n",
    "*deque\n",
    "\"\"\""
   ]
  },
  {
   "cell_type": "code",
   "execution_count": 3,
   "metadata": {},
   "outputs": [
    {
     "name": "stdout",
     "output_type": "stream",
     "text": [
      "Counter({14.5: 3, 14.0: 2, 13.5: 1, 15.0: 1, 16.0: 1})\n",
      "3\n",
      "2\n",
      "1\n",
      "1\n",
      "1\n"
     ]
    }
   ],
   "source": [
    "# Counter\n",
    "from collections import Counter\n",
    "\n",
    "device_temperatures = [13.5, 14.0, 14.0, 14.5, 14.5, 14.5, 15.0, 16.0]\n",
    "temperature_counter = Counter(device_temperatures)\n",
    "\n",
    "print(temperature_counter)\n",
    "print(temperature_counter[14.5])\n",
    "print(temperature_counter[14.0])\n",
    "print(temperature_counter[13.5])\n",
    "print(temperature_counter[15.0])\n",
    "print(temperature_counter[16.0])"
   ]
  },
  {
   "cell_type": "code",
   "execution_count": 26,
   "metadata": {},
   "outputs": [
    {
     "name": "stdout",
     "output_type": "stream",
     "text": [
      "Google\n",
      "Apple Inc.\n",
      "Teclado\n"
     ]
    }
   ],
   "source": [
    "# Defaultdict\n",
    "from collections import defaultdict\n",
    "\n",
    "coworkers = [\n",
    "    ('Rolf', 'MIT'),\n",
    "    ('Jen','Oxford'),\n",
    "    ('Rolf','Cambridge'),\n",
    "    ('Charlie','Manchester')\n",
    "]\n",
    "\n",
    "alma_maters = defaultdict(list)\n",
    "\n",
    "for coworker, place in coworkers:\n",
    "    alma_maters[coworker].append(place)\n",
    "    \n",
    "\n",
    "# another example\n",
    "\n",
    "my_company = 'Teclado'\n",
    "\n",
    "coworkers = ['Jen', 'Li', 'Charlie', 'Rhys']\n",
    "other_coworkers = [('Rolf', 'Apple Inc.'), ('Anna', 'Google')]\n",
    "\n",
    "coworker_companies = defaultdict(lambda: my_company)\n",
    "\n",
    "for person, company in other_coworkers:\n",
    "    coworker_companies[person] = company\n",
    "    \n",
    "print(coworker_companies['Anna'])\n",
    "print(coworker_companies['Rolf'])\n",
    "print(coworker_companies['Li'])"
   ]
  },
  {
   "cell_type": "code",
   "execution_count": 30,
   "metadata": {},
   "outputs": [
    {
     "name": "stdout",
     "output_type": "stream",
     "text": [
      "OrderedDict([('Rolf', 6), ('Jose', 12), ('Jen', 3)])\n",
      "OrderedDict([('Jose', 12), ('Jen', 3), ('Rolf', 6)])\n",
      "OrderedDict([('Jen', 3), ('Jose', 12), ('Rolf', 6)])\n",
      "OrderedDict([('Jen', 3), ('Jose', 12)])\n"
     ]
    }
   ],
   "source": [
    "# Ordereddict\n",
    "from collections import OrderedDict\n",
    "\n",
    "o = OrderedDict()\n",
    "\n",
    "o['Rolf'] = 6\n",
    "o['Jose'] = 12\n",
    "o['Jen'] = 3\n",
    "\n",
    "print(o)\n",
    "\n",
    "o.move_to_end('Rolf')\n",
    "print(o)\n",
    "\n",
    "o.move_to_end('Jen', last=False)\n",
    "print(o)\n",
    "\n",
    "o.popitem()\n",
    "print(o)"
   ]
  },
  {
   "cell_type": "code",
   "execution_count": 33,
   "metadata": {},
   "outputs": [
    {
     "name": "stdout",
     "output_type": "stream",
     "text": [
      "checking\n",
      "1850.9\n"
     ]
    }
   ],
   "source": [
    "# Namedtuple\n",
    "from collections import namedtuple\n",
    "\n",
    "Account = namedtuple('Account', ['name', 'balance'])\n",
    "account = Account('checking', 1850.90)\n",
    "\n",
    "print(account.name)\n",
    "print(account.balance)"
   ]
  },
  {
   "cell_type": "code",
   "execution_count": 3,
   "metadata": {},
   "outputs": [
    {
     "name": "stdout",
     "output_type": "stream",
     "text": [
      "deque(['Rolf', 'Charlie', 'Jen', 'Anna', 'Jose'])\n",
      "deque(['Anthony', 'Rolf', 'Charlie', 'Jen', 'Anna', 'Jose'])\n",
      "deque(['Anthony', 'Rolf', 'Charlie', 'Jen', 'Anna'])\n",
      "deque(['Rolf', 'Charlie', 'Jen', 'Anna'])\n",
      "deque(['Charlie', 'Jen', 'Anna', 'Rolf'])\n"
     ]
    }
   ],
   "source": [
    "# Deque\n",
    "from collections import deque\n",
    "\n",
    "friends = deque(('Rolf', 'Charlie', 'Jen', 'Anna'))\n",
    "friends.append('Jose')\n",
    "print(friends)\n",
    "\n",
    "friends.appendleft('Anthony')\n",
    "print(friends)\n",
    "\n",
    "friends.pop()\n",
    "print(friends)\n",
    "\n",
    "friends.popleft()\n",
    "print(friends)\n",
    "\n",
    "friends.append(friends[0])\n",
    "friends.popleft()\n",
    "print(friends)"
   ]
  }
 ],
 "metadata": {
  "kernelspec": {
   "display_name": "Python 3",
   "language": "python",
   "name": "python3"
  },
  "language_info": {
   "codemirror_mode": {
    "name": "ipython",
    "version": 3
   },
   "file_extension": ".py",
   "mimetype": "text/x-python",
   "name": "python",
   "nbconvert_exporter": "python",
   "pygments_lexer": "ipython3",
   "version": "3.6.7"
  }
 },
 "nbformat": 4,
 "nbformat_minor": 2
}
