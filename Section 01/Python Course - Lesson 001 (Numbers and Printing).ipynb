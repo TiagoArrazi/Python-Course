{
 "cells": [
  {
   "cell_type": "code",
   "execution_count": 2,
   "metadata": {},
   "outputs": [
    {
     "name": "stdout",
     "output_type": "stream",
     "text": [
      "7\n",
      "7\n"
     ]
    }
   ],
   "source": [
    "a = 3\n",
    "b = 4\n",
    "\n",
    "my_sum = a + b\n",
    "another_sum = 3 + 4\n",
    "\n",
    "print(my_sum)\n",
    "print(another_sum)\n",
    "\n",
    "#Letters, numbers, and underscores.\n",
    "#Cannot start with a number\n"
   ]
  },
  {
   "cell_type": "code",
   "execution_count": 4,
   "metadata": {},
   "outputs": [
    {
     "name": "stdout",
     "output_type": "stream",
     "text": [
      "5.0\n"
     ]
    }
   ],
   "source": [
    "math_operators = 1 + 3 * 4 / 2 - 2  #5.0\n",
    "\n",
    "#1st 3 * 4\n",
    "#2nd (3 * 4) / 2\n",
    "#3rd ((3 * 4) / 2) - 2\n",
    "#4th (((3 * 4) / 2) - 2) + 1\n",
    "\n",
    "#'*' and '/' come first\n",
    "#'+' and '-' come after\n",
    "\n",
    "#--------------------->>\n",
    "print(math_operators)"
   ]
  },
  {
   "cell_type": "code",
   "execution_count": null,
   "metadata": {},
   "outputs": [],
   "source": [
    "float_division = 12 / 3  #4.0\n",
    "print(float_division)\n",
    "\n",
    "integer_division = 12 // 3  #4\n",
    "print(integer_division)\n",
    "\n",
    "division_with_remainder = 12 // 5  #should be 2.4\n",
    "print(division_with_remainder)  #it's 2\n",
    "\n",
    "remainder = 12 % 5  #2 -> remainder = 2\n",
    "print(remainder)"
   ]
  }
 ],
 "metadata": {
  "kernelspec": {
   "display_name": "Python 3",
   "language": "python",
   "name": "python3"
  },
  "language_info": {
   "codemirror_mode": {
    "name": "ipython",
    "version": 3
   },
   "file_extension": ".py",
   "mimetype": "text/x-python",
   "name": "python",
   "nbconvert_exporter": "python",
   "pygments_lexer": "ipython3",
   "version": "3.6.7"
  }
 },
 "nbformat": 4,
 "nbformat_minor": 2
}
