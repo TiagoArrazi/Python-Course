{
 "cells": [
  {
   "cell_type": "code",
   "execution_count": 9,
   "metadata": {},
   "outputs": [
    {
     "name": "stdout",
     "output_type": "stream",
     "text": [
      "['hello', 'hi', 'nice to meet you']\n",
      "('hello', 'hi', 'nice to meet you')\n",
      "{'nice to meet you', 'hi', 'hello'}\n",
      "hello\n",
      "hello\n",
      "('hello', 'hi', 'nice to meet you', 'another string')\n",
      "{'another string', 'nice to meet you', 'hi', 'hello'}\n"
     ]
    }
   ],
   "source": [
    "my_variable = 'hello'\n",
    "my_list_variable = ['hello', 'hi', 'nice to meet you']\n",
    "my_tuple_variable = ('hello', 'hi', 'nice to meet you')\n",
    "my_set_variable = {'hello', 'hi', 'nice to meet you'} #not reliable regarding sorted elements\n",
    "\n",
    "print(my_list_variable)\n",
    "print(my_tuple_variable)\n",
    "print(my_set_variable)\n",
    "\n",
    "print(my_list_variable[0]) #accessing the 1st element fo the list\n",
    "print(my_tuple_variable[0]) #accessing the 1st element fo the tuple\n",
    "#print(my_set_variable[0]) #does not work, because sets do not have a guaranteed order\n",
    "\n",
    "my_list_variable.append('another string') #adding an item at the end of the list\n",
    "#my_tuple_variable.append('another string') #does not work, tuples are immutable\n",
    "my_tuple_variable = my_tuple_variable + ('another string',)\n",
    "print(my_tuple_variable)\n",
    "\n",
    "my_set_variable.add('hello') #won't change the set since it automatically removes duplicates\n",
    "my_set_variable.add('another string') #since it was not in the set, it will be added to it\n",
    "print(my_set_variable)"
   ]
  },
  {
   "cell_type": "code",
   "execution_count": 3,
   "metadata": {},
   "outputs": [
    {
     "name": "stdout",
     "output_type": "stream",
     "text": [
      "hello\n",
      "('hello',)\n"
     ]
    }
   ],
   "source": [
    "my_short_tuple = ('hello') #not a tuple\n",
    "my_true_short_tuple = ('hello',) #tuple\n",
    "weird_tuple = 'hello', #also a tuple (not recommended)\n",
    "print(my_short_tuple)\n",
    "print(my_true_short_tuple)"
   ]
  }
 ],
 "metadata": {
  "kernelspec": {
   "display_name": "Python 3",
   "language": "python",
   "name": "python3"
  },
  "language_info": {
   "codemirror_mode": {
    "name": "ipython",
    "version": 3
   },
   "file_extension": ".py",
   "mimetype": "text/x-python",
   "name": "python",
   "nbconvert_exporter": "python",
   "pygments_lexer": "ipython3",
   "version": "3.6.7"
  }
 },
 "nbformat": 4,
 "nbformat_minor": 2
}
