{
 "cells": [
  {
   "cell_type": "code",
   "execution_count": 4,
   "metadata": {},
   "outputs": [
    {
     "name": "stdout",
     "output_type": "stream",
     "text": [
      "Enter your name: Rolf\n"
     ]
    }
   ],
   "source": [
    "user_name =  input('Enter your name: ')\n",
    "my_file_writing = (open('Lesson031_data.txt', 'w'))\n",
    "my_file_writing.write(user_name)\n",
    "my_file_writing.close()"
   ]
  },
  {
   "cell_type": "code",
   "execution_count": 5,
   "metadata": {},
   "outputs": [
    {
     "name": "stdout",
     "output_type": "stream",
     "text": [
      "Rolf\n"
     ]
    }
   ],
   "source": [
    "my_file = open('Lesson031_data.txt', 'r')\n",
    "file_content = my_file.read()\n",
    "my_file.close()\n",
    "\n",
    "print(file_content)"
   ]
  }
 ],
 "metadata": {
  "kernelspec": {
   "display_name": "Python 3",
   "language": "python",
   "name": "python3"
  },
  "language_info": {
   "codemirror_mode": {
    "name": "ipython",
    "version": 3
   },
   "file_extension": ".py",
   "mimetype": "text/x-python",
   "name": "python",
   "nbconvert_exporter": "python",
   "pygments_lexer": "ipython3",
   "version": "3.6.7"
  }
 },
 "nbformat": 4,
 "nbformat_minor": 2
}
