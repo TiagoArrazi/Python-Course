{
 "cells": [
  {
   "cell_type": "code",
   "execution_count": 1,
   "metadata": {},
   "outputs": [
    {
     "name": "stdout",
     "output_type": "stream",
     "text": [
      "10\n",
      "The result is 10\n",
      "Another is None\n"
     ]
    }
   ],
   "source": [
    "def i_return():\n",
    "    return 5 + 5\n",
    "\n",
    "def i_print():\n",
    "    print(5 + 5)\n",
    "    \n",
    "result = i_return()\n",
    "another = i_print()\n",
    "\n",
    "print(f'The result is {result}')\n",
    "print(f'Another is {another}')"
   ]
  },
  {
   "cell_type": "code",
   "execution_count": 2,
   "metadata": {},
   "outputs": [
    {
     "name": "stdout",
     "output_type": "stream",
     "text": [
      "10\n",
      "10\n"
     ]
    }
   ],
   "source": [
    "def fives():\n",
    "    addition = 5 + 5\n",
    "    print(addition)\n",
    "    return addition\n",
    "\n",
    "result = fives()\n",
    "print(result)"
   ]
  }
 ],
 "metadata": {
  "kernelspec": {
   "display_name": "Python 3",
   "language": "python",
   "name": "python3"
  },
  "language_info": {
   "codemirror_mode": {
    "name": "ipython",
    "version": 3
   },
   "file_extension": ".py",
   "mimetype": "text/x-python",
   "name": "python",
   "nbconvert_exporter": "python",
   "pygments_lexer": "ipython3",
   "version": "3.6.7"
  }
 },
 "nbformat": 4,
 "nbformat_minor": 2
}
