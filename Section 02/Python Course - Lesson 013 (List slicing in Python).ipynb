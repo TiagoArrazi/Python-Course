{
 "cells": [
  {
   "cell_type": "code",
   "execution_count": 9,
   "metadata": {},
   "outputs": [
    {
     "name": "stdout",
     "output_type": "stream",
     "text": [
      "['Anna', 'Charlie']\n",
      "['Anna', 'Charlie']\n",
      "['Anna', 'Charlie', 'Mary']\n",
      "['Rolf', 'Jose']\n",
      "['Rolf', 'Jose', 'Anna']\n",
      "['Rolf', 'Jose', 'Anna', 'Charlie', 'Mary']\n"
     ]
    }
   ],
   "source": [
    "friends = ['Rolf', 'Jose', 'Anna', 'Charlie', 'Mary']\n",
    "\n",
    "print(friends[2:4])\n",
    "print(friends[-3:-1])\n",
    "print(friends[-3:])\n",
    "print(friends[:2])\n",
    "print(friends[:-2])\n",
    "print(friends[:])"
   ]
  }
 ],
 "metadata": {
  "kernelspec": {
   "display_name": "Python 3",
   "language": "python",
   "name": "python3"
  },
  "language_info": {
   "codemirror_mode": {
    "name": "ipython",
    "version": 3
   },
   "file_extension": ".py",
   "mimetype": "text/x-python",
   "name": "python",
   "nbconvert_exporter": "python",
   "pygments_lexer": "ipython3",
   "version": "3.6.5"
  }
 },
 "nbformat": 4,
 "nbformat_minor": 2
}
