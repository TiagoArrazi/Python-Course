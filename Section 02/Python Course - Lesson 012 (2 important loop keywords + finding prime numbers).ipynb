{
 "cells": [
  {
   "cell_type": "code",
   "execution_count": 4,
   "metadata": {},
   "outputs": [
    {
     "name": "stdout",
     "output_type": "stream",
     "text": [
      "This car is ok.\n",
      "This car is ok.\n",
      "This car is ok.\n",
      "This car is faulty.\n",
      "Stopping production line...\n"
     ]
    }
   ],
   "source": [
    "cars = ['ok', 'ok', 'ok', 'faulty', 'ok', 'ok']\n",
    "\n",
    "for car_status in cars:\n",
    "    if car_status == 'faulty':\n",
    "        print(f'This car is {car_status}.')\n",
    "        print('Stopping production line...')\n",
    "        break\n",
    "    else:\n",
    "        print(f'This car is {car_status}.')"
   ]
  },
  {
   "cell_type": "code",
   "execution_count": 5,
   "metadata": {},
   "outputs": [
    {
     "name": "stdout",
     "output_type": "stream",
     "text": [
      "This car is ok.\n",
      "This car is ok.\n",
      "This car is ok.\n",
      "This car is faulty.\n",
      "Produciton must go on...\n",
      "This car is ok.\n",
      "This car is ok.\n"
     ]
    }
   ],
   "source": [
    "for car_status in cars:\n",
    "    if car_status == 'faulty':\n",
    "        print(f'This car is {car_status}.')\n",
    "        print('Produciton must go on...')\n",
    "        continue\n",
    "    else:\n",
    "        print(f'This car is {car_status}.')"
   ]
  },
  {
   "cell_type": "code",
   "execution_count": 9,
   "metadata": {},
   "outputs": [
    {
     "name": "stdout",
     "output_type": "stream",
     "text": [
      "found an even number, 2\n",
      "found a number, 3\n",
      "found an even number, 4\n",
      "found a number, 5\n",
      "found an even number, 6\n",
      "found a number, 7\n",
      "found an even number, 8\n",
      "found a number, 9\n"
     ]
    }
   ],
   "source": [
    "for num in range(2, 10):\n",
    "    if num % 2 == 0:\n",
    "        print(f'found an even number, {num}')\n",
    "        continue\n",
    "    print(f'found a number, {num}')"
   ]
  },
  {
   "cell_type": "code",
   "execution_count": 13,
   "metadata": {},
   "outputs": [
    {
     "name": "stdout",
     "output_type": "stream",
     "text": [
      "2 is a prime number\n",
      "3 is a prime number\n",
      "4 equals 2 * 2\n",
      "5 is a prime number\n",
      "6 equals 2 * 3\n",
      "7 is a prime number\n",
      "8 equals 2 * 4\n",
      "9 equals 3 * 3\n",
      "10 equals 2 * 5\n",
      "11 is a prime number\n",
      "12 equals 2 * 6\n",
      "13 is a prime number\n",
      "14 equals 2 * 7\n",
      "15 equals 3 * 5\n",
      "16 equals 2 * 8\n",
      "17 is a prime number\n",
      "18 equals 2 * 9\n",
      "19 is a prime number\n"
     ]
    }
   ],
   "source": [
    "#finding prime numbers\n",
    "for n in range(2, 20):\n",
    "    for x in range(2, n):\n",
    "        if n % x == 0:\n",
    "            print(f'{n} equals {x} * {n//x}')\n",
    "            break\n",
    "    else:\n",
    "        print(f'{n} is a prime number')"
   ]
  }
 ],
 "metadata": {
  "kernelspec": {
   "display_name": "Python 3",
   "language": "python",
   "name": "python3"
  },
  "language_info": {
   "codemirror_mode": {
    "name": "ipython",
    "version": 3
   },
   "file_extension": ".py",
   "mimetype": "text/x-python",
   "name": "python",
   "nbconvert_exporter": "python",
   "pygments_lexer": "ipython3",
   "version": "3.6.7"
  }
 },
 "nbformat": 4,
 "nbformat_minor": 2
}
