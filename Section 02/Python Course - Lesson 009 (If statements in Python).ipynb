{
 "cells": [
  {
   "cell_type": "code",
   "execution_count": 1,
   "metadata": {},
   "outputs": [
    {
     "name": "stdout",
     "output_type": "stream",
     "text": [
      "You are awesome!\n"
     ]
    }
   ],
   "source": [
    "programmer = True\n",
    "\n",
    "if programmer is True:\n",
    "  print('You are awesome!')"
   ]
  },
  {
   "cell_type": "code",
   "execution_count": 4,
   "metadata": {},
   "outputs": [
    {
     "name": "stdout",
     "output_type": "stream",
     "text": [
      "You are awesome!\n"
     ]
    }
   ],
   "source": [
    "is_programmer = True\n",
    "\n",
    "if is_programmer is True:\n",
    "  print('You are awesome!')\n",
    "else:\n",
    "  print('Learn some programming!')"
   ]
  },
  {
   "cell_type": "code",
   "execution_count": 5,
   "metadata": {},
   "outputs": [
    {
     "name": "stdout",
     "output_type": "stream",
     "text": [
      "You are awesome!\n"
     ]
    }
   ],
   "source": [
    "if is_programmer:\n",
    "  print('You are awesome!')"
   ]
  },
  {
   "cell_type": "code",
   "execution_count": 6,
   "metadata": {},
   "outputs": [
    {
     "name": "stdout",
     "output_type": "stream",
     "text": [
      "You are awesome!\n"
     ]
    }
   ],
   "source": [
    "if is_programmer is False:\n",
    "  print('Learn some programming!')\n",
    "else:\n",
    "  print('You are awesome!')"
   ]
  },
  {
   "cell_type": "code",
   "execution_count": 7,
   "metadata": {},
   "outputs": [],
   "source": [
    "if is_programmer is not True:\n",
    "  print('Learn some programming!')"
   ]
  },
  {
   "cell_type": "code",
   "execution_count": 8,
   "metadata": {},
   "outputs": [],
   "source": [
    "if not is_programmer:\n",
    "  print('Learn some programming!')"
   ]
  },
  {
   "cell_type": "code",
   "execution_count": 9,
   "metadata": {},
   "outputs": [
    {
     "name": "stdout",
     "output_type": "stream",
     "text": [
      "Not the best, but still awesome.\n"
     ]
    }
   ],
   "source": [
    "is_programmer = False\n",
    "is_awesome = True\n",
    "\n",
    "if is_programmer:\n",
    "  print(\"You're the best!\")\n",
    "elif is_awesome:\n",
    "  print(\"Not the best, but still awesome.\")\n",
    "else:\n",
    "  print('Be awesome!')"
   ]
  }
 ],
 "metadata": {
  "kernelspec": {
   "display_name": "Python 3",
   "language": "python",
   "name": "python3"
  },
  "language_info": {
   "codemirror_mode": {
    "name": "ipython",
    "version": 3
   },
   "file_extension": ".py",
   "mimetype": "text/x-python",
   "name": "python",
   "nbconvert_exporter": "python",
   "pygments_lexer": "ipython3",
   "version": "3.6.5"
  }
 },
 "nbformat": 4,
 "nbformat_minor": 2
}
