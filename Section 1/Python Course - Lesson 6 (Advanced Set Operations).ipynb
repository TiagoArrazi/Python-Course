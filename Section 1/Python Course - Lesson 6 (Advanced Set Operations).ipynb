{
 "cells": [
  {
   "cell_type": "code",
   "execution_count": 5,
   "metadata": {},
   "outputs": [
    {
     "name": "stdout",
     "output_type": "stream",
     "text": [
      "{1, 3, 5}\n",
      "{1, 3, 5}\n",
      "{1, 2, 3, 4, 5, 7, 9, 11}\n",
      "{1, 2, 3, 4, 5, 7, 9, 11}\n",
      "{2, 4}\n",
      "{2, 4}\n",
      "{9, 11, 7}\n",
      "{9, 11, 7}\n"
     ]
    }
   ],
   "source": [
    "set_one = {1, 2, 3, 4, 5}\n",
    "set_two = {1, 3, 5, 7, 9, 11}\n",
    "\n",
    "print(set_one.intersection(set_two)) # set_one ∩ set_two\n",
    "print(set_one & set_two) # set_one ∩ set_two\n",
    "\n",
    "print(set_one.union(set_two)) # set_one ∪ set_two\n",
    "print(set_one | set_two) # set_one ∪ set_two\n",
    "\n",
    "print(set_one.difference(set_two)) # set_one - set_two\n",
    "print(set_one - set_two)\n",
    "print(set_two.difference(set_one)) # set_two - set_one\n",
    "print(set_two - set_one)"
   ]
  }
 ],
 "metadata": {
  "kernelspec": {
   "display_name": "Python 3",
   "language": "python",
   "name": "python3"
  },
  "language_info": {
   "codemirror_mode": {
    "name": "ipython",
    "version": 3
   },
   "file_extension": ".py",
   "mimetype": "text/x-python",
   "name": "python",
   "nbconvert_exporter": "python",
   "pygments_lexer": "ipython3",
   "version": "3.6.7"
  }
 },
 "nbformat": 4,
 "nbformat_minor": 2
}
