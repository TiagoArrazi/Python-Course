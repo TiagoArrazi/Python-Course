{
 "cells": [
  {
   "cell_type": "code",
   "execution_count": 1,
   "metadata": {},
   "outputs": [
    {
     "name": "stdout",
     "output_type": "stream",
     "text": [
      "1\n",
      "2\n",
      "3\n",
      "4\n"
     ]
    }
   ],
   "source": [
    "num_letters = {\n",
    "    'A':1,\n",
    "    'B':2,\n",
    "    'C':3,\n",
    "    'D':4\n",
    "}\n",
    "\n",
    "print(num_letters['A'])\n",
    "print(num_letters['B'])\n",
    "print(num_letters['C'])\n",
    "print(num_letters['D'])"
   ]
  },
  {
   "cell_type": "code",
   "execution_count": 3,
   "metadata": {},
   "outputs": [
    {
     "name": "stdout",
     "output_type": "stream",
     "text": [
      "first\n",
      "second\n",
      "third\n",
      "fourth\n",
      "a\n",
      "b\n",
      "c\n",
      "d\n"
     ]
    }
   ],
   "source": [
    "alphabet = {\n",
    "    'A':{'position':'first', 'lower':'a'},\n",
    "    'B':{'position':'second', 'lower':'b'},\n",
    "    'C':{'position':'third', 'lower':'c'},\n",
    "    'D':{'position':'fourth', 'lower':'d'}\n",
    "}\n",
    "\n",
    "print(alphabet['A']['position'])\n",
    "print(alphabet['B']['position'])\n",
    "print(alphabet['C']['position'])\n",
    "print(alphabet['D']['position'])\n",
    "\n",
    "print(alphabet['A']['lower'])\n",
    "print(alphabet['B']['lower'])\n",
    "print(alphabet['C']['lower'])\n",
    "print(alphabet['D']['lower'])"
   ]
  },
  {
   "cell_type": "code",
   "execution_count": 13,
   "metadata": {},
   "outputs": [
    {
     "name": "stdout",
     "output_type": "stream",
     "text": [
      "Name-> Tiago\n",
      "Is a programmer-> True\n",
      "Name-> Telma\n",
      "Is a programmer-> False\n"
     ]
    }
   ],
   "source": [
    "list_dict = [\n",
    "    \n",
    "    {'Name':'Tiago',\n",
    "     'is_programmer':True},\n",
    "    \n",
    "    {'Name':'Telma',\n",
    "     'is_programmer':False}\n",
    "]\n",
    "\n",
    "print(f\"Name-> {list_dict[0]['Name']}\")\n",
    "print(f\"Is a programmer-> {list_dict[0]['is_programmer']}\")\n",
    "\n",
    "print(f\"Name-> {list_dict[1]['Name']}\")\n",
    "print(f\"Is a programmer-> {list_dict[1]['is_programmer']}\")"
   ]
  },
  {
   "cell_type": "code",
   "execution_count": 15,
   "metadata": {},
   "outputs": [
    {
     "name": "stdout",
     "output_type": "stream",
     "text": [
      "{'first': 1, 'second': 2, 'third': 3, 'fourth': 4}\n",
      "{'second': 2, 'third': 3, 'fourth': 4}\n"
     ]
    }
   ],
   "source": [
    "ordinary_dict = {\n",
    "    'first':1,\n",
    "    'second':2,\n",
    "    'third':3\n",
    "}\n",
    "\n",
    "ordinary_dict['fourth'] = 4 #adds element to dictionary\n",
    "print(ordinary_dict)\n",
    "\n",
    "del ordinary_dict['first'] #removes element from dictionary\n",
    "print(ordinary_dict)"
   ]
  }
 ],
 "metadata": {
  "kernelspec": {
   "display_name": "Python 3",
   "language": "python",
   "name": "python3"
  },
  "language_info": {
   "codemirror_mode": {
    "name": "ipython",
    "version": 3
   },
   "file_extension": ".py",
   "mimetype": "text/x-python",
   "name": "python",
   "nbconvert_exporter": "python",
   "pygments_lexer": "ipython3",
   "version": "3.6.7"
  }
 },
 "nbformat": 4,
 "nbformat_minor": 2
}
