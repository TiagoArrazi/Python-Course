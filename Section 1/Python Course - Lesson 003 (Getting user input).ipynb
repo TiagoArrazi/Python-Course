{
 "cells": [
  {
   "cell_type": "code",
   "execution_count": 1,
   "metadata": {},
   "outputs": [
    {
     "name": "stdout",
     "output_type": "stream",
     "text": [
      "Tell me your name: Tiago\n",
      "How old are you? 20\n",
      "Your name is Tiago and you have lived for 240 months\n"
     ]
    }
   ],
   "source": [
    "name_input = input('Tell me your name: ')\n",
    "age_input = int(input('How old are you? '))\n",
    "months_lived = age_input * 12\n",
    "\n",
    "response_string = 'Your name is {} and you have lived for {} months'\n",
    "formatted_response_string = response_string.format(name_input, months_lived)\n",
    "\n",
    "print(formatted_response_string)"
   ]
  },
  {
   "cell_type": "code",
   "execution_count": null,
   "metadata": {},
   "outputs": [],
   "source": [
    "#------------------------or-------------------------#"
   ]
  },
  {
   "cell_type": "code",
   "execution_count": 2,
   "metadata": {},
   "outputs": [
    {
     "name": "stdout",
     "output_type": "stream",
     "text": [
      "Tell me your name: Tiago\n",
      "How old are you? 20\n",
      "Your name is Tiago and you have lived for 240 months\n"
     ]
    }
   ],
   "source": [
    "name_input = input('Tell me your name: ')\n",
    "age_input = int(input('How old are you? '))\n",
    "months_lived = age_input * 12\n",
    "\n",
    "response_string = f'Your name is {name_input} and you have lived for {months_lived} months' \n",
    "\n",
    "print(response_string)"
   ]
  },
  {
   "cell_type": "code",
   "execution_count": 3,
   "metadata": {},
   "outputs": [
    {
     "name": "stdout",
     "output_type": "stream",
     "text": [
      "Tell me your name: Tiago\n",
      "How old are you? 20\n",
      "Your name is Tiago and you have lived for 630720000 seconds\n"
     ]
    }
   ],
   "source": [
    "#A small exercise: calculate the amount of seconds instead of months.\n",
    "\n",
    "name_input = input('Tell me your name: ')\n",
    "age_input = int(input('How old are you? '))\n",
    "seconds_lived = age_input * 365 * 24 * 60 * 60\n",
    "\n",
    "response_string = f'Your name is {name_input} and you have lived for {seconds_lived} seconds'\n",
    "\n",
    "print(response_string)"
   ]
  },
  {
   "cell_type": "code",
   "execution_count": null,
   "metadata": {},
   "outputs": [],
   "source": []
  }
 ],
 "metadata": {
  "kernelspec": {
   "display_name": "Python 3",
   "language": "python",
   "name": "python3"
  },
  "language_info": {
   "codemirror_mode": {
    "name": "ipython",
    "version": 3
   },
   "file_extension": ".py",
   "mimetype": "text/x-python",
   "name": "python",
   "nbconvert_exporter": "python",
   "pygments_lexer": "ipython3",
   "version": "3.6.7"
  }
 },
 "nbformat": 4,
 "nbformat_minor": 2
}
